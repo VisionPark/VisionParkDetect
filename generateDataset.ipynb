{
 "cells": [
  {
   "cell_type": "code",
   "execution_count": null,
   "metadata": {},
   "outputs": [],
   "source": [
    "# SPLIT DATASET INTO 80% TRAINING AND 20% TEST\n",
    "import glob\n",
    "from math import floor\n",
    "import shutil\n",
    "import os\n",
    "import random\n",
    "random.seed = 1\n",
    "\n",
    "# files=['a', 'b', 'c','d','e', 'f', 'g']\n",
    "\n",
    "for parking_id in ['UFPR04', 'UFPR05', 'PUCPR']:\n",
    "    for weather in ['Sunny', 'Cloudy', 'Rainy']:\n",
    "\n",
    "        path = f'E:\\\\Documents\\\\PKLot\\\\PKLot\\\\PKLot\\\\PKLot\\\\{parking_id}\\\\{weather}'\n",
    "        files = glob.glob(path + '/**/*.jpg', recursive=True)\n",
    "\n",
    "        num = floor(len(files)*0.8)\n",
    "        print(num)\n",
    "        files_training = random.sample(files, num)\n",
    "        files_test = list(set(files) - set(files_training))\n",
    "\n",
    "        spaces_training = [file.replace('.jpg', '.xml')\n",
    "                                for file in files_training]\n",
    "        \n",
    "        spaces_test = [file.replace('.jpg', '.xml') for file in files_test]\n",
    "        \n",
    "        \n",
    "        for ft, st in zip(files_training, spaces_training):\n",
    "            if os.path.exists(ft) and os.path.exists(st):\n",
    "                dst = f'E:\\\\OneDrive - UNIVERSIDAD DE HUELVA\\\\TFG\\\\VisionParkDetect\\\\dataset\\\\training\\\\{parking_id}\\\\{weather}'\n",
    "                shutil.copy(ft, dst)\n",
    "                shutil.copy(st, dst)\n",
    "            \n",
    "        for ft, st in zip(files_test, spaces_test):\n",
    "            if os.path.exists(ft) and os.path.exists(st):\n",
    "                dst = f'E:\\\\OneDrive - UNIVERSIDAD DE HUELVA\\\\TFG\\\\VisionParkDetect\\\\dataset\\\\test\\\\{parking_id}\\\\{weather}'\n",
    "                shutil.copy(ft, dst)\n",
    "                shutil.copy(st, dst)\n",
    "\n",
    "\n",
    "        # print(f'{len(files)} total. {len(files_training)} training. {len(files_test)} test.')\n",
    "# print(files_test)\n"
   ]
  }
 ],
 "metadata": {
  "kernelspec": {
   "display_name": "VisionParkDetectEnv",
   "language": "python",
   "name": "python3"
  },
  "language_info": {
   "name": "python",
   "version": "3.9.2"
  },
  "orig_nbformat": 4,
  "vscode": {
   "interpreter": {
    "hash": "751c3e3c5f8bc6a4e4e068bb230f26d845892c4443aea059e9acc5405f3faaee"
   }
  }
 },
 "nbformat": 4,
 "nbformat_minor": 2
}
