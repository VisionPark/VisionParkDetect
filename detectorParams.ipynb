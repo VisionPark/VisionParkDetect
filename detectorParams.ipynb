{
 "cells": [
  {
   "cell_type": "markdown",
   "metadata": {},
   "source": [
    "## UFPR04\n",
    "![](\"dataset/UFPR04_sample.jpg\")"
   ]
  },
  {
   "cell_type": "code",
   "execution_count": 1,
   "metadata": {},
   "outputs": [],
   "source": [
    "from ipynb.fs.full.ParkingSpaceDetector import *\n",
    "import random\n",
    "import glob\n",
    "\n",
    "path = 'E:\\\\Documents\\\\PKLot\\\\PKLot\\\\PKLot\\\\PKLot\\\\UFPR04'\n",
    "# Get all images in path\n",
    "files = glob.glob(path + '/**/*.jpg', recursive=True)\n",
    "# Select n random images from dataset\n",
    "selected_files = random.choices(files, k=int(len(files)/10))\n",
    "\n",
    "# params = DetectionParams((5,5), 0, cv.ADAPTIVE_THRESH_GAUSSIAN_C, 27, 7, 3, 85) # PUCPR\n",
    "# params = DetectionParams((5,5), 0, cv.ADAPTIVE_THRESH_GAUSSIAN_C, 33, 7, 3, 85) # UPR05\n",
    "\n"
   ]
  },
  {
   "cell_type": "code",
   "execution_count": 2,
   "metadata": {},
   "outputs": [],
   "source": [
    "# Setup detection params\n",
    "img = cv.imread(selected_files[0]) \n",
    "setup_preprocess(img)"
   ]
  },
  {
   "cell_type": "code",
   "execution_count": 5,
   "metadata": {},
   "outputs": [
    {
     "name": "stdout",
     "output_type": "stream",
     "text": [
      "3/3:  E:\\Documents\\PKLot\\PKLot\\PKLot\\PKLot\\UFPR04\\Sunny\\2013-01-21\\2013-01-21_17_10_13.jpg\n",
      "ERROR PREDICTED vacant: True\n",
      "Pixel count: 2341\n",
      "Area: 9103.5 k=0.25715384192892843\n",
      "---------------------------------\n",
      "ERROR PREDICTED vacant: True\n",
      "Pixel count: 1637\n",
      "Area: 6849.5 k=0.23899554712022775\n",
      "---------------------------------\n",
      "ERROR PREDICTED vacant: True\n",
      "Pixel count: 1024\n",
      "Area: 4315.5 k=0.2372842080871278\n",
      "---------------------------------\n",
      "ERROR PREDICTED vacant: True\n",
      "Pixel count: 2584\n",
      "Area: 13221.0 k=0.19544663792451403\n",
      "---------------------------------\n",
      "ERROR PREDICTED vacant: True\n",
      "Pixel count: 1144\n",
      "Area: 4605.5 k=0.24839865378351972\n",
      "---------------------------------\n",
      "ERROR PREDICTED vacant: True\n",
      "Pixel count: 732\n",
      "Area: 3766.0 k=0.19437068507700478\n",
      "---------------------------------\n",
      "ERROR PREDICTED vacant: True\n",
      "Pixel count: 742\n",
      "Area: 2859.0 k=0.2595313046519762\n",
      "---------------------------------\n",
      "ERROR PREDICTED vacant: True\n",
      "Pixel count: 533\n",
      "Area: 2576.0 k=0.20690993788819875\n",
      "---------------------------------\n",
      "ERROR PREDICTED vacant: True\n",
      "Pixel count: 563\n",
      "Area: 2220.0 k=0.2536036036036036\n",
      "---------------------------------\n",
      "ERROR PREDICTED vacant: True\n",
      "Pixel count: 1021\n",
      "Area: 5594.0 k=0.18251698248122988\n",
      "---------------------------------\n",
      "ERROR PREDICTED vacant: True\n",
      "Pixel count: 778\n",
      "Area: 5243.0 k=0.14838832729353424\n",
      "---------------------------------\n",
      "ERROR PREDICTED vacant: True\n",
      "Pixel count: 972\n",
      "Area: 4195.0 k=0.23170441001191894\n",
      "---------------------------------\n",
      "ERROR PREDICTED vacant: True\n",
      "Pixel count: 689\n",
      "Area: 3087.0 k=0.22319403952057013\n",
      "---------------------------------\n",
      "ERROR PREDICTED vacant: True\n",
      "Pixel count: 614\n",
      "Area: 2439.0 k=0.25174251742517423\n",
      "---------------------------------\n",
      "ERROR PREDICTED vacant: True\n",
      "Pixel count: 515\n",
      "Area: 2100.0 k=0.24523809523809523\n",
      "---------------------------------\n",
      "Precision: 0.644\n",
      "Recall: 1.000\n",
      "F1 Score: 0.784\n",
      "Accuracy: 0.719\n"
     ]
    },
    {
     "data": {
      "image/png": "[encoded data removed]",
      "text/plain": [
       "<Figure size 432x288 with 2 Axes>"
      ]
     },
     "metadata": {
      "needs_background": "light"
     },
     "output_type": "display_data"
    }
   ],
   "source": [
    "# Step by step detection\n",
    "gaussianBlurKernel = (5, 5)  # Tamaño kernel suavizado gaussiano\n",
    "gaussianBlurSigma = 0\n",
    "at_blockSize = 31           # Tamaño vecindad umbral adaptativo\n",
    "at_C = 13                    # Constante a sustraer en el umbral adaptativo\n",
    "median_k = 3                # Tamaño kernel filtro mediana\n",
    "bw_size = 19                # Umbral Eliminar objetos pequeños\n",
    "params = DetectionParams(gaussianBlurKernel, gaussianBlurSigma,\n",
    "                         cv.ADAPTIVE_THRESH_GAUSSIAN_C, at_blockSize, at_C, median_k, bw_size, vacant_threshold=0.26, show_imshow=True)  # UFPR04\n",
    "\n",
    "confusion_matrix = detect_batch(selected_files[:3], params)"
   ]
  },
  {
   "cell_type": "code",
   "execution_count": 2,
   "metadata": {},
   "outputs": [
    {
     "name": "stdout",
     "output_type": "stream",
     "text": [
      "Processing 379 files with 12 cores\n"
     ]
    },
    {
     "name": "stderr",
     "output_type": "stream",
     "text": [
      "100%|██████████| 379/379 [01:41<00:00,  3.73it/s]"
     ]
    },
    {
     "name": "stdout",
     "output_type": "stream",
     "text": [
      "Precision: 0.915\n",
      "specificity: 0.905\n",
      "Recall: 0.847\n",
      "F1 Score: 0.880\n",
      "Accuracy: 0.873\n"
     ]
    },
    {
     "name": "stderr",
     "output_type": "stream",
     "text": [
      "\n"
     ]
    },
    {
     "data": {
      "image/png": "[encoded data removed]",
      "text/plain": [
       "<Figure size 432x288 with 2 Axes>"
      ]
     },
     "metadata": {
      "needs_background": "light"
     },
     "output_type": "display_data"
    },
    {
     "data": {
      "text/plain": [
       "(0.9148290511834918,\n",
       " 0.9050304534175502,\n",
       " 0.8469750889679716,\n",
       " 0.8795954094534137,\n",
       " 0.8733115022513304)"
      ]
     },
     "execution_count": 2,
     "metadata": {},
     "output_type": "execute_result"
    }
   ],
   "source": [
    "gaussianBlurKernel = (5, 5)  # Tamaño kernel suavizado gaussiano\n",
    "gaussianBlurSigma = 0\n",
    "at_blockSize = 29           # Tamaño vecindad umbral adaptativo\n",
    "at_C = 8                    # Constante a sustraer en el umbral adaptativo\n",
    "median_k = 3                # Tamaño kernel filtro mediana\n",
    "bw_size = 23                # Umbral Eliminar objetos pequeños\n",
    "params = DetectionParams(gaussianBlurKernel, gaussianBlurSigma,\n",
    "                         cv.ADAPTIVE_THRESH_GAUSSIAN_C, at_blockSize, at_C, median_k, bw_size, vacant_threshold=0.26)  # UFPR04\n",
    "\n",
    "confusion_matrix, real, predicted = process_batch(selected_files, params)\n",
    "show_confusion_matrix(confusion_matrix, real, predicted)"
   ]
  },
  {
   "cell_type": "code",
   "execution_count": 4,
   "metadata": {},
   "outputs": [
    {
     "name": "stdout",
     "output_type": "stream",
     "text": [
      "Processing 379 files with 12 cores\n"
     ]
    },
    {
     "name": "stderr",
     "output_type": "stream",
     "text": [
      "100%|██████████| 379/379 [01:38<00:00,  3.83it/s]\n"
     ]
    },
    {
     "name": "stdout",
     "output_type": "stream",
     "text": [
      "Precision: 0.922\n",
      "Recall: 0.839\n",
      "F1 Score: 0.879\n",
      "Accuracy: 0.869\n"
     ]
    },
    {
     "data": {
      "image/png": "[encoded data removed]",
      "text/plain": [
       "<Figure size 432x288 with 2 Axes>"
      ]
     },
     "metadata": {
      "needs_background": "light"
     },
     "output_type": "display_data"
    }
   ],
   "source": [
    "gaussianBlurKernel = (5, 5)  # Tamaño kernel suavizado gaussiano\n",
    "gaussianBlurSigma = 0\n",
    "at_blockSize = 29           # Tamaño vecindad umbral adaptativo\n",
    "at_C = 8                    # Constante a sustraer en el umbral adaptativo\n",
    "median_k = 3                # Tamaño kernel filtro mediana\n",
    "bw_size = 23                # Umbral Eliminar objetos pequeños\n",
    "params = DetectionParams(gaussianBlurKernel, gaussianBlurSigma,\n",
    "                         cv.ADAPTIVE_THRESH_GAUSSIAN_C, at_blockSize, at_C, median_k, bw_size)  # UFPR04\n",
    "\n",
    "confusion_matrix, real, predicted = process_batch(selected_files, params,  vacant_threshold=0.26)\n",
    "show_confusion_matrix(confusion_matrix, real, predicted)"
   ]
  },
  {
   "cell_type": "code",
   "execution_count": 5,
   "metadata": {},
   "outputs": [
    {
     "name": "stdout",
     "output_type": "stream",
     "text": [
      "Processing 379 files with 12 cores\n"
     ]
    },
    {
     "name": "stderr",
     "output_type": "stream",
     "text": [
      "100%|██████████| 379/379 [01:34<00:00,  4.02it/s]"
     ]
    },
    {
     "name": "stdout",
     "output_type": "stream",
     "text": [
      "Precision: 0.852\n",
      "Recall: 0.960\n",
      "F1 Score: 0.903\n",
      "Accuracy: 0.883\n"
     ]
    },
    {
     "name": "stderr",
     "output_type": "stream",
     "text": [
      "\n"
     ]
    },
    {
     "data": {
      "image/png": "[encoded data removed]",
      "text/plain": [
       "<Figure size 432x288 with 2 Axes>"
      ]
     },
     "metadata": {
      "needs_background": "light"
     },
     "output_type": "display_data"
    }
   ],
   "source": [
    "gaussianBlurKernel = (5,5)  # Tamaño kernel suavizado gaussiano\n",
    "gaussianBlurSigma = 0\n",
    "at_blockSize = 29           # Tamaño vecindad umbral adaptativo\n",
    "at_C = 10                    # Constante a sustraer en el umbral adaptativo\n",
    "median_k = 3                # Tamaño kernel filtro mediana\n",
    "bw_size = 25                # Umbral Eliminar objetos pequeños \n",
    "params = DetectionParams(gaussianBlurKernel, gaussianBlurSigma, cv.ADAPTIVE_THRESH_GAUSSIAN_C, at_blockSize, at_C, median_k, bw_size) # UFPR04\n",
    "\n",
    "confusion_matrix, real, predicted = process_batch(selected_files, params, vacant_threshold=0.26)\n",
    "show_confusion_matrix(confusion_matrix, real, predicted)"
   ]
  },
  {
   "cell_type": "markdown",
   "metadata": {},
   "source": [
    "## PUCPR"
   ]
  },
  {
   "cell_type": "code",
   "execution_count": 6,
   "metadata": {},
   "outputs": [],
   "source": [
    "from ipynb.fs.full.ParkingSpaceDetector import *\n",
    "import random\n",
    "import glob\n",
    "\n",
    "path = 'E:\\\\Documents\\\\PKLot\\\\PKLot\\\\PKLot\\\\PKLot\\\\PUCPR'\n",
    "files = glob.glob(path+ '/**/*.jpg', recursive=True)            # Get all images in path\n",
    "selected_files = random.choices(files, k=int(len(files)/10))    # Select n random images from dataset"
   ]
  },
  {
   "cell_type": "code",
   "execution_count": 7,
   "metadata": {},
   "outputs": [
    {
     "name": "stdout",
     "output_type": "stream",
     "text": [
      "Processing 447 files with 12 cores\n"
     ]
    },
    {
     "name": "stderr",
     "output_type": "stream",
     "text": [
      "100%|██████████| 447/447 [02:10<00:00,  3.42it/s]\n"
     ]
    },
    {
     "name": "stdout",
     "output_type": "stream",
     "text": [
      "Precision: 0.935\n",
      "Recall: 0.890\n",
      "F1 Score: 0.912\n",
      "Accuracy: 0.910\n"
     ]
    },
    {
     "data": {
      "image/png": "[encoded data removed]",
      "text/plain": [
       "<Figure size 432x288 with 2 Axes>"
      ]
     },
     "metadata": {
      "needs_background": "light"
     },
     "output_type": "display_data"
    }
   ],
   "source": [
    "params = DetectionParams((5,5), 0, cv.ADAPTIVE_THRESH_GAUSSIAN_C, 27, 7, 3, 85) # PUCPR\n",
    "confusion_matrix, real, predicted = process_batch(selected_files, params,  vacant_threshold=0.26)\n",
    "show_confusion_matrix(confusion_matrix, real, predicted)"
   ]
  },
  {
   "cell_type": "markdown",
   "metadata": {},
   "source": [
    "## UPR05"
   ]
  },
  {
   "cell_type": "code",
   "execution_count": 8,
   "metadata": {},
   "outputs": [],
   "source": [
    "from ipynb.fs.full.ParkingSpaceDetector import *\n",
    "import random\n",
    "import glob\n",
    "\n",
    "# params = DetectionParams((5,5), 0, cv.ADAPTIVE_THRESH_GAUSSIAN_C, 33, 7, 3, 85) # UPR05\n",
    "path = 'E:\\\\Documents\\\\PKLot\\\\PKLot\\\\PKLot\\\\PKLot\\\\UFPR05'\n",
    "files = glob.glob(path+ '/**/*.jpg', recursive=True)            # Get all images in path\n",
    "selected_files = random.choices(files, k=int(len(files)/10))    # Select n random images from dataset"
   ]
  },
  {
   "cell_type": "code",
   "execution_count": 9,
   "metadata": {},
   "outputs": [
    {
     "name": "stdout",
     "output_type": "stream",
     "text": [
      "Processing 415 files with 12 cores\n"
     ]
    },
    {
     "name": "stderr",
     "output_type": "stream",
     "text": [
      "100%|██████████| 415/415 [01:11<00:00,  5.82it/s]"
     ]
    },
    {
     "name": "stdout",
     "output_type": "stream",
     "text": [
      "Precision: 0.890\n",
      "Recall: 0.794\n",
      "F1 Score: 0.839\n",
      "Accuracy: 0.869\n"
     ]
    },
    {
     "name": "stderr",
     "output_type": "stream",
     "text": [
      "\n"
     ]
    },
    {
     "data": {
      "image/png": "[encoded data removed]",
      "text/plain": [
       "<Figure size 432x288 with 2 Axes>"
      ]
     },
     "metadata": {
      "needs_background": "light"
     },
     "output_type": "display_data"
    }
   ],
   "source": [
    "params = DetectionParams((5,5), 0, cv.ADAPTIVE_THRESH_GAUSSIAN_C, 33, 9, 3, 305) # UPR05\n",
    "confusion_matrix, real, predicted = process_batch(selected_files, params,  vacant_threshold=0.22)\n",
    "show_confusion_matrix(confusion_matrix, real, predicted)"
   ]
  }
 ],
 "metadata": {
  "kernelspec": {
   "display_name": "Python 3.9.2 ('VisionParkDetectEnv': venv)",
   "language": "python",
   "name": "python3"
  },
  "language_info": {
   "codemirror_mode": {
    "name": "ipython",
    "version": 3
   },
   "file_extension": ".py",
   "mimetype": "text/x-python",
   "name": "python",
   "nbconvert_exporter": "python",
   "pygments_lexer": "ipython3",
   "version": "3.9.2"
  },
  "orig_nbformat": 4,
  "vscode": {
   "interpreter": {
    "hash": "751c3e3c5f8bc6a4e4e068bb230f26d845892c4443aea059e9acc5405f3faaee"
   }
  }
 },
 "nbformat": 4,
 "nbformat_minor": 2
}
