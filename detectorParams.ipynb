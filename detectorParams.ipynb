{
 "cells": [
  {
   "cell_type": "code",
   "execution_count": 8,
   "metadata": {},
   "outputs": [
    {
     "name": "stdout",
     "output_type": "stream",
     "text": [
      "Parking: 23 - UFPR04\n",
      "updated status\n",
      "updated status\n",
      "updated status\n",
      "updated status\n",
      "updated status\n",
      "updated status\n",
      "updated status\n",
      "updated status\n",
      "updated status\n",
      "updated status\n"
     ]
    }
   ],
   "source": [
    "# SPACE OCCUPATION DETECTION \n",
    "# https://www.youtube.com/watch?v=caKnQlCMIYI\n",
    "parkings = fetch_parkings(con)\n",
    "\n",
    "for p in parkings :\n",
    "    if p[1] == 'UFPR04':\n",
    "        # SAMPLE STATIC PARKING CAPTURE\n",
    "        parking_img = cv.imread(\n",
    "            'E:\\OneDrive - UNIVERSIDAD DE HUELVA\\TFG\\VisionParkDetect\\dataset/UFPR04_rainy.jpg')\n",
    "        img = parking_img\n",
    "        \n",
    "        # setupPreprocess(img)\n",
    "        imgPre = preProcess(img)\n",
    "        \n",
    "        parking_id = p[0]\n",
    "        parking_name = p[1]\n",
    "\n",
    "        print(f\"Parking: {parking_id} - {parking_name}\")\n",
    "\n",
    "        spaces = get_spaces(parking_id)\n",
    "                \n",
    "        if len(spaces) > 0:\n",
    "            for space in spaces:\n",
    "                id = space[0]\n",
    "                vertex = np.array(json.loads(space[1]), dtype=np.int32)\n",
    "                vertex = vertex.reshape(-1, 1, 2)\n",
    "                was_vacant = get_space_vacant(id) # Fetch de DB to get current space status\n",
    "                #print(vertex)\n",
    "\n",
    "                cols = vertex[:, :, 0].flatten()\n",
    "                rows = vertex[:, :, 1].flatten()\n",
    "                points = list(zip(cols, rows))\n",
    "                \n",
    "                roi = get_roi(imgPre, vertex)\n",
    "                \n",
    "                # cv.imshow(\"roi\", roi)\n",
    "\n",
    "                # Count pixels with value '1'\n",
    "                count = cv.countNonZero(roi)\n",
    "                \n",
    "                # drawSpaceSeg(img, vertex, count)\n",
    "                # cv.imshow(\"ROI\", roi)\n",
    "                k = 0.2\n",
    "                vacant = is_space_vacant(points, count, k) # Depending on the detection area \n",
    "                if(vacant != was_vacant): # If status has changed\n",
    "                    update_space_occupancy(id, vacant) # Update the space occupancy status\n",
    "                    print(\"updated status\")\n",
    "                \n",
    "                cv.imshow(\"IMG with space seg\", drawSpaceSeg(img, np.array(points, np.int32), count, not vacant, min(cols), max(rows)), area(points))\n",
    "                # cv.waitKey()\n",
    "                # cv.destroyWindow(\"roi\")\n",
    "\n",
    "            cv.waitKey()\n",
    "\n",
    "cv.destroyAllWindows()"
   ]
  },
  {
   "cell_type": "code",
   "execution_count": 9,
   "metadata": {},
   "outputs": [],
   "source": [
    "# \n",
    "import cv2\n",
    "import numpy as np\n",
    "import argparse\n",
    "drawing = False\n",
    "ix,iy = -1,-1\n",
    "img = cv2.imread(\n",
    "            'E:\\OneDrive - UNIVERSIDAD DE HUELVA\\TFG\\VisionParkDetect\\dataset/UFPR04_sample.jpg')\n",
    "\n",
    "def mouse_event(event,x,y,flags,param):\n",
    "    global ix,iy,drawing,mode\n",
    "    if event == cv2.EVENT_LBUTTONDOWN:\n",
    "        drawing = True\n",
    "        ix,iy = x,y\n",
    "    elif event == cv2.EVENT_LBUTTONUP:\n",
    "        print(ix,iy)\n",
    "       # print ix,iy\n",
    "        drawing = False\n",
    "\n",
    "\n",
    "\n",
    "cv2.namedWindow('image')\n",
    "cv2.setMouseCallback('image',mouse_event)\n",
    "\n",
    "while(1):\n",
    "    cv2.imshow('image',img)\n",
    "    k = cv2.waitKey(1) & 0xFF\n",
    "    if k == 27:\n",
    "        break\n",
    "\n",
    "cv2.destroyAllWindows()"
   ]
  },
  {
   "cell_type": "code",
   "execution_count": null,
   "metadata": {},
   "outputs": [],
   "source": [
    "import cv2\n",
    "import numpy as np\n",
    "import matplotlib.pyplot as plt\n",
    "from mpl_toolkits.mplot3d import Axes3D\n",
    "\n",
    "def plot3d(pixels, colors_rgb,\n",
    "        axis_labels=list(\"RGB\"), axis_limits=[(0, 255), (0, 255), (0, 255)], title=''):\n",
    "    \"\"\"Plot pixels in 3D.\"\"\"\n",
    "\n",
    "    # Create figure and 3D axes\n",
    "    fig = plt.figure(figsize=(12, 10))\n",
    "    ax = Axes3D(fig)\n",
    "\n",
    "    # Set axis limits\n",
    "    ax.set_xlim(*axis_limits[0])\n",
    "    ax.set_ylim(*axis_limits[1])\n",
    "    ax.set_zlim(*axis_limits[2])\n",
    "\n",
    "    # Set axis labels and sizes\n",
    "    ax.tick_params(axis='both', which='major', labelsize=14, pad=8)\n",
    "    ax.set_xlabel(axis_labels[0], fontsize=16, labelpad=16)\n",
    "    ax.set_ylabel(axis_labels[1], fontsize=16, labelpad=16)\n",
    "    ax.set_zlabel(axis_labels[2], fontsize=16, labelpad=16)\n",
    "    ax.set_title(title)\n",
    "    \n",
    "\n",
    "\n",
    "    # Plot pixel values with colors given in colors_rgb\n",
    "    if pixels.ndim == 3:\n",
    "        ax.scatter(\n",
    "            pixels[:, :, 0].ravel(),\n",
    "            pixels[:, :, 1].ravel(),\n",
    "            pixels[:, :, 2].ravel(),\n",
    "            c=colors_rgb.reshape((-1, 3)), edgecolors='none')\n",
    "\n",
    "    elif pixels.ndim == 2:\n",
    "        ax.scatter(\n",
    "            pixels[:, 0].ravel(),\n",
    "            pixels[:, 1].ravel(),\n",
    "            pixels[:, 2].ravel(),\n",
    "            c=colors_rgb.reshape((-1, 3)), edgecolors='none')\n",
    "\n",
    "    return ax  # return Axes3D object for further manipulation\n"
   ]
  },
  {
   "cell_type": "code",
   "execution_count": null,
   "metadata": {},
   "outputs": [],
   "source": [
    "def imhist(img):\n",
    "\n",
    "    bgr_planes = cv.split(img)\n",
    "    histSize = 256\n",
    "    histRange = (0, 256) # the upper boundary is exclusive\n",
    "    accumulate = False\n",
    "    b_hist = cv.calcHist(bgr_planes, [0], None, [histSize], histRange, accumulate=accumulate)\n",
    "    g_hist = cv.calcHist(bgr_planes, [1], None, [histSize], histRange, accumulate=accumulate)\n",
    "    r_hist = cv.calcHist(bgr_planes, [2], None, [histSize], histRange, accumulate=accumulate)\n",
    "    hist_w = 512\n",
    "    hist_h = 400\n",
    "    bin_w = int(round( hist_w/histSize ))\n",
    "    histImage = np.zeros((hist_h, hist_w, 3), dtype=np.uint8)\n",
    "    cv.normalize(b_hist, b_hist, alpha=0, beta=hist_h, norm_type=cv.NORM_MINMAX)\n",
    "    cv.normalize(g_hist, g_hist, alpha=0, beta=hist_h, norm_type=cv.NORM_MINMAX)\n",
    "    cv.normalize(r_hist, r_hist, alpha=0, beta=hist_h, norm_type=cv.NORM_MINMAX)\n",
    "    for i in range(1, histSize):\n",
    "        cv.line(histImage, ( bin_w*(i-1), hist_h - int(b_hist[i-1]) ),\n",
    "                ( bin_w*(i), hist_h - int(b_hist[i]) ),\n",
    "                ( 255, 0, 0), thickness=2)\n",
    "        cv.line(histImage, ( bin_w*(i-1), hist_h - int(g_hist[i-1]) ),\n",
    "                ( bin_w*(i), hist_h - int(g_hist[i]) ),\n",
    "                ( 0, 255, 0), thickness=2)\n",
    "        cv.line(histImage, ( bin_w*(i-1), hist_h - int(r_hist[i-1]) ),\n",
    "                ( bin_w*(i), hist_h - int(r_hist[i]) ),\n",
    "                ( 0, 0, 255), thickness=2)\n",
    "    cv.imshow('Source image', img)\n",
    "    cv.imshow('calcHist Demo', histImage)\n",
    "    cv.waitKey()"
   ]
  },
  {
   "cell_type": "code",
   "execution_count": null,
   "metadata": {},
   "outputs": [],
   "source": [
    "# DRAWING SPACES SEGMENTATION FOR EACH PARKING\n",
    "parkings = fetch_parkings(con)\n",
    "\n",
    "for p in parkings:\n",
    "\n",
    "    # SAMPLE STATIC PARKING CAPTURE\n",
    "    parking_img = cv.imread(\n",
    "        'E:\\OneDrive - UNIVERSIDAD DE HUELVA\\TFG\\VisionParkWeb-main\\VisionParkWeb\\VisionParkWeb\\VisionParkWeb\\static\\drawerJs\\parking_sample.jpg')\n",
    "    image = parking_img\n",
    "\n",
    "    parking_id = p[0]\n",
    "    parking_name = p[1]\n",
    "\n",
    "    print(parking_id, \"-\", parking_name)\n",
    "\n",
    "    spaces = get_spaces(parking_id)\n",
    "    print(len(spaces), ' spaces')\n",
    "\n",
    "    if len(spaces) > 0:\n",
    "        for space in spaces:\n",
    "\n",
    "            vertex = np.array(json.loads(space[1]), dtype=np.int32)\n",
    "            vertex = vertex.reshape(-1, 1, 2)\n",
    "\n",
    "            roi = get_roi(image, vertex)\n",
    "            \n",
    "\n",
    "            # Convert subsampled image to desired color space(s)\n",
    "            img_small_RGB = cv2.cvtColor(roi, cv2.COLOR_BGR2HSV)  # OpenCV uses BGR, matplotlib likes RGB\n",
    "            img_small_rgb = img_small_RGB / 255.  # scaled to [0, 1], only for plotting\n",
    "\n",
    "            # Plot and show\n",
    "            plot3d(img_small_RGB, img_small_rgb)\n",
    "            plt.show()\n",
    "            imshow(roi, 'roi')\n",
    "\n",
    "            isClosed = True\n",
    "            # Blue color in BGR\n",
    "            color = (255, 0, 0)\n",
    "            # Line thickness of 1 px\n",
    "            thickness = 2\n",
    "\n",
    "            # Using cv2.polylines() method\n",
    "            # Draw a Blue polygon with thickness of 1 px\n",
    "            # image = cv.polylines(image, [vertex], isClosed, color, thickness)\n",
    "\n",
    "    # Show window\n",
    "    # while(1):\n",
    "    #     title = f'[{parking_id}] - {parking_name} - {len(spaces)} spaces'\n",
    "    #     cv.imshow(title, image)\n",
    "    #     if cv.waitKey(20) & 0xFF == 27:\n",
    "    #         break\n",
    "\n",
    "cv.destroyAllWindows()\n"
   ]
  },
  {
   "cell_type": "code",
   "execution_count": null,
   "metadata": {},
   "outputs": [],
   "source": [
    "################################################################\n",
    "#DATA EXTRACTION\n",
    "################################################################\n",
    "R = np.empty(1,np.uint8)\n",
    "G = np.empty(1,np.uint8)\n",
    "B = np.empty(1,np.uint8)\n",
    "\n",
    "# https://newbedev.com/how-to-iterate-over-files-in-a-given-directory\n",
    "directory = 'dataset\\empty'\n",
    "for filename in os.listdir(directory):\n",
    "    if filename.endswith(\".jpg\"):\n",
    "        \n",
    "        I = cv.imread(directory + '/' + filename)\n",
    "        I = cv2.cvtColor(I, cv2.COLOR_BGR2HSV) \n",
    "    \n",
    "        # Append pixel values per channel\n",
    "        # imread uses BGR channels\n",
    "        B = np.append(B, I[:,:,0])\n",
    "        G = np.append(G, I[:,:,1])\n",
    "        R = np.append(R, I[:,:,2])\n",
    "\n",
    "# Take a sequence of 1-D arrays and stack them as columns to make a single 2-D array. \n",
    "RGB = np.column_stack((B, G, R))\n",
    "\n",
    "mean = np.mean(RGB, axis = 0)\n",
    "std = np.std(RGB, axis = 0)\n",
    "\n",
    "# Plotting RGB values\n",
    "rgb = RGB / 255.  # scaled to [0, 1], only for plotting\n",
    "title = f\"{np.size(RGB,0)} RGB samples\\nMean: {mean}\\nStd: {std}\"\n",
    "plot3d(RGB, rgb, title=title)\n",
    "plt.show()\n",
    "print(title)\n",
    "\n",
    "\n",
    "\n",
    "# TODO: Saving to filename\n",
    "# https://www.kite.com/python/answers/how-to-write-a-variable-to-a-file-in-python\n",
    "\n",
    "        "
   ]
  },
  {
   "cell_type": "code",
   "execution_count": null,
   "metadata": {},
   "outputs": [],
   "source": [
    "################################################################\n",
    "#DATA EXTRACTION\n",
    "################################################################\n",
    "R = np.empty(1,np.uint8)\n",
    "G = np.empty(1,np.uint8)\n",
    "B = np.empty(1,np.uint8)\n",
    "\n",
    "# https://newbedev.com/how-to-iterate-over-files-in-a-given-directory\n",
    "directory = 'dataset\\occupied'\n",
    "for filename in os.listdir(directory):\n",
    "    if filename.endswith(\".jpg\"):\n",
    "        \n",
    "        I = cv.imread(directory + '/' + filename)\n",
    "        I = cv.cvtColor(I, cv.COLOR_BGR2HSV) \n",
    "    \n",
    "        # Append pixel values per channel\n",
    "        # imread uses BGR channels\n",
    "        B = np.append(B, I[:,:,0])\n",
    "        G = np.append(G, I[:,:,1])\n",
    "        R = np.append(R, I[:,:,2])\n",
    "\n",
    "# Take a sequence of 1-D arrays and stack them as columns to make a single 2-D array. \n",
    "RGB = np.column_stack((B, G, R))\n",
    "\n",
    "mean = np.mean(RGB, axis = 0)\n",
    "std = np.std(RGB, axis = 0)\n",
    "\n",
    "# Plotting RGB values\n",
    "rgb = RGB / 255.  # scaled to [0, 1], only for plotting\n",
    "title = f\"{np.size(RGB,0)} RGB samples\\nMean: {mean}\\nStd: {std}\"\n",
    "plot3d(RGB, rgb, title=title)\n",
    "plt.show()\n",
    "print(title)\n",
    "\n",
    "\n",
    "\n",
    "# TODO: Saving to filename\n",
    "# https://www.kite.com/python/answers/how-to-write-a-variable-to-a-file-in-python\n",
    "\n",
    "        "
   ]
  },
  {
   "cell_type": "code",
   "execution_count": null,
   "metadata": {},
   "outputs": [],
   "source": [
    "import cv2 as cv\n",
    "import sqlite3\n",
    "import numpy as np\n",
    "import json\n",
    "import os # list directories\n",
    "\n",
    "# SPACE OCCUPATION DETECTION \n",
    "# https://www.youtube.com/watch?v=caKnQlCMIYI\n",
    "parkings = fetch_parkings(con)\n",
    "\n",
    "for p, i in enumerate(parkings):\n",
    "\n",
    "    # SAMPLE STATIC PARKING CAPTURE\n",
    "    parking_img = cv.imread(\n",
    "        'E:\\OneDrive - UNIVERSIDAD DE HUELVA\\TFG\\VisionParkDetect\\dataset/full.jpg')\n",
    "    img = parking_img\n",
    "\n",
    "    imgGray = cv.cvtColor(img, cv.COLOR_BGR2GRAY)\n",
    "    imgBlur = cv.GaussianBlur(imgGray, (3,3), 1)\n",
    "\n",
    "    imgThreshold = cv.adaptiveThreshold(imgBlur, 255, cv.ADAPTIVE_THRESH_GAUSSIAN_C, cv.THRESH_BINARY_INV, 25, 16)\n",
    "\n",
    "    # Remove salt and pepper noise\n",
    "    imgMedian = cv.medianBlur(imgThreshold, 5)\n",
    "\n",
    "    # Make thicker edges\n",
    "    kernel = np.ones((3,3), np.uint8) \n",
    "    imgDilate = cv.dilate(imgMedian, kernel, iterations=1)\n",
    "\n",
    "    parking_id = p[0]\n",
    "    parking_name = p[1]\n",
    "\n",
    "    print(parking_id, \"-\", parking_name)\n",
    "\n",
    "    spaces = get_spaces(parking_id)\n",
    "    print(len(spaces), ' spaces')\n",
    "            \n",
    "    cv.imshow(\"IMG\", img)\n",
    "    cv.imshow(\"IMGTresh\", imgThreshold)\n",
    "    cv.imshow(\"IMGMedian\", imgMedian)\n",
    "    cv.imshow(\"IMG Dilate\", imgDilate)\n",
    "    \n",
    "    cv.waitKey()\n",
    "\n",
    "    if len(spaces) > 0:\n",
    "        for space in spaces:\n",
    "\n",
    "            vertex = np.array(json.loads(space[1]), dtype=np.int32)\n",
    "            vertex = vertex.reshape(-1, 1, 2)\n",
    "\n",
    "            roi = get_roi(imgMedian, vertex)\n",
    "\n",
    "            # Count pixels with value '1'\n",
    "            count = cv.countNonZero(roi)\n",
    "            \n",
    "\n",
    "            cv.imshow(\"ROI\", roi)\n",
    "            cv.imshow(\"IMG with space seg\", drawSpaceSeg(img, vertex, count))\n",
    "            cv.waitKey()\n",
    "\n",
    "\n",
    "cv.destroyAllWindows()"
   ]
  },
  {
   "cell_type": "code",
   "execution_count": 1,
   "metadata": {},
   "outputs": [],
   "source": []
  },
  {
   "cell_type": "markdown",
   "metadata": {},
   "source": []
  },
  {
   "cell_type": "code",
   "execution_count": 24,
   "metadata": {},
   "outputs": [
    {
     "name": "stdout",
     "output_type": "stream",
     "text": [
      "142/142:  E:\\OneDrive - UNIVERSIDAD DE HUELVA\\TFG\\PKLot\\PKLot\\PKLot\\UFPR05\\Cloudy\\2013-03-05\\2013-03-05_12_30_07.jpg\n",
      "Precision: 0.755\n",
      "Recall: 0.913\n",
      "F1 Score: 0.827\n",
      "Accuracy: 0.852\n"
     ]
    },
    {
     "data": {
      "image/png": "[encoded data removed]",
      "text/plain": [
       "<Figure size 432x288 with 2 Axes>"
      ]
     },
     "metadata": {
      "needs_background": "light"
     },
     "output_type": "display_data"
    }
   ],
   "source": [
    "from ipynb.fs.full.ParkingSpaceDetector import *\n",
    "import random\n",
    "import glob\n",
    "\n",
    "path = 'E:\\\\OneDrive - UNIVERSIDAD DE HUELVA\\TFG\\PKLot\\PKLot\\PKLot\\\\UFPR05\\\\Cloudy'\n",
    "files = glob.glob(path+ '/**/*.jpg', recursive=True)            # Get all images in path\n",
    "selected_files = random.choices(files, k=int(len(files)/10))    # Select n random images from dataset\n",
    "params = DetectionParams((5,5), 0, cv.ADAPTIVE_THRESH_GAUSSIAN_C, 33, 9, 3, 20) # UPR05\n",
    "detect_batch(selected_files, params,k=0.26, showImshow=False)\n"
   ]
  },
  {
   "cell_type": "code",
   "execution_count": 15,
   "metadata": {},
   "outputs": [
    {
     "name": "stdout",
     "output_type": "stream",
     "text": [
      "415/415:  E:\\OneDrive - UNIVERSIDAD DE HUELVA\\TFG\\PKLot\\PKLot\\PKLot\\UFPR05\\Cloudy\\2013-03-09\\2013-03-09_09_10_03.jpg\n",
      "Precision: 0.871\n",
      "Recall: 0.776\n",
      "F1 Score: 0.821\n",
      "Accuracy: 0.868\n"
     ]
    },
    {
     "data": {
      "image/png": "[encoded data removed]",
      "text/plain": [
       "<Figure size 432x288 with 2 Axes>"
      ]
     },
     "metadata": {
      "needs_background": "light"
     },
     "output_type": "display_data"
    }
   ],
   "source": [
    "from ipynb.fs.full.ParkingSpaceDetector import *\n",
    "import random\n",
    "import glob\n",
    "\n",
    "path = 'E:\\\\OneDrive - UNIVERSIDAD DE HUELVA\\TFG\\PKLot\\PKLot\\PKLot\\\\UFPR05'\n",
    "\n",
    "files = glob.glob(path+ '/**/*.jpg', recursive=True)            # Get all images in path\n",
    "selected_files = random.choices(files, k=int(len(files)/10))    # Select n random images from dataset\n",
    "params = DetectionParams((5,5]), 0, cv.ADAPTIVE_THRESH_GAUSSIAN_C, 33, 9, 3, 20) # UPR05\n",
    "detect_batch(selected_files, params,k=0.2, showImshow=False, setup=False)\n"
   ]
  },
  {
   "cell_type": "code",
   "execution_count": 2,
   "metadata": {},
   "outputs": [
    {
     "name": "stdout",
     "output_type": "stream",
     "text": [
      "415/415:  E:\\OneDrive - UNIVERSIDAD DE HUELVA\\TFG\\PKLot\\PKLot\\PKLot\\UFPR05\\Sunny\\2013-03-11\\2013-03-11_18_05_14.jpg\n",
      "Precision: 0.866\n",
      "Recall: 0.845\n",
      "F1 Score: 0.855\n",
      "Accuracy: 0.878\n"
     ]
    },
    {
     "data": {
      "image/png": "[encoded data removed]",
      "text/plain": [
       "<Figure size 432x288 with 2 Axes>"
      ]
     },
     "metadata": {
      "needs_background": "light"
     },
     "output_type": "display_data"
    }
   ],
   "source": [
    "from ipynb.fs.full.ParkingSpaceDetector import *\n",
    "import random\n",
    "import glob\n",
    "\n",
    "path = 'E:\\\\OneDrive - UNIVERSIDAD DE HUELVA\\TFG\\PKLot\\PKLot\\PKLot\\\\UFPR05'\n",
    "\n",
    "files = glob.glob(path+ '/**/*.jpg', recursive=True)            # Get all images in path\n",
    "selected_files = random.choices(files, k=int(len(files)/10))    # Select n random images from dataset\n",
    "params = DetectionParams((7,7), 0, cv.ADAPTIVE_THRESH_GAUSSIAN_C, 33, 9, 3, 20) # UPR05\n",
    "detect_batch(selected_files, params,k=0.2, showImshow=False, setup=False)"
   ]
  },
  {
   "cell_type": "code",
   "execution_count": 3,
   "metadata": {},
   "outputs": [
    {
     "name": "stdout",
     "output_type": "stream",
     "text": [
      "13/250:  E:\\OneDrive - UNIVERSIDAD DE HUELVA\\TFG\\PKLot\\PKLot\\PKLot\\UFPR05\\Sunny\\2013-04-15\\2013-04-15_07_05_01.jpg\n"
     ]
    },
    {
     "ename": "KeyboardInterrupt",
     "evalue": "",
     "output_type": "error",
     "traceback": [
      "\u001b[1;31m---------------------------------------------------------------------------\u001b[0m",
      "\u001b[1;31mKeyboardInterrupt\u001b[0m                         Traceback (most recent call last)",
      "\u001b[1;32mC:\\Users\\VCTOR~1\\AppData\\Local\\Temp/ipykernel_15020/1038215673.py\u001b[0m in \u001b[0;36m<module>\u001b[1;34m\u001b[0m\n\u001b[0;32m      7\u001b[0m \u001b[0mselected_files\u001b[0m \u001b[1;33m=\u001b[0m \u001b[0mrandom\u001b[0m\u001b[1;33m.\u001b[0m\u001b[0mchoices\u001b[0m\u001b[1;33m(\u001b[0m\u001b[0mfiles\u001b[0m\u001b[1;33m,\u001b[0m \u001b[0mk\u001b[0m\u001b[1;33m=\u001b[0m\u001b[0mint\u001b[0m\u001b[1;33m(\u001b[0m\u001b[0mlen\u001b[0m\u001b[1;33m(\u001b[0m\u001b[0mfiles\u001b[0m\u001b[1;33m)\u001b[0m\u001b[1;33m/\u001b[0m\u001b[1;36m10\u001b[0m\u001b[1;33m)\u001b[0m\u001b[1;33m)\u001b[0m    \u001b[1;31m# Select n random images from dataset\u001b[0m\u001b[1;33m\u001b[0m\u001b[1;33m\u001b[0m\u001b[0m\n\u001b[0;32m      8\u001b[0m \u001b[0mparams\u001b[0m \u001b[1;33m=\u001b[0m \u001b[0mDetectionParams\u001b[0m\u001b[1;33m(\u001b[0m\u001b[1;33m(\u001b[0m\u001b[1;36m9\u001b[0m\u001b[1;33m,\u001b[0m\u001b[1;36m9\u001b[0m\u001b[1;33m)\u001b[0m\u001b[1;33m,\u001b[0m \u001b[1;36m0\u001b[0m\u001b[1;33m,\u001b[0m \u001b[0mcv\u001b[0m\u001b[1;33m.\u001b[0m\u001b[0mADAPTIVE_THRESH_GAUSSIAN_C\u001b[0m\u001b[1;33m,\u001b[0m \u001b[1;36m33\u001b[0m\u001b[1;33m,\u001b[0m \u001b[1;36m9\u001b[0m\u001b[1;33m,\u001b[0m \u001b[1;36m3\u001b[0m\u001b[1;33m,\u001b[0m \u001b[1;36m305\u001b[0m\u001b[1;33m)\u001b[0m \u001b[1;31m# UPR05\u001b[0m\u001b[1;33m\u001b[0m\u001b[1;33m\u001b[0m\u001b[0m\n\u001b[1;32m----> 9\u001b[1;33m \u001b[0mdetect_batch\u001b[0m\u001b[1;33m(\u001b[0m\u001b[0mselected_files\u001b[0m\u001b[1;33m,\u001b[0m \u001b[0mparams\u001b[0m\u001b[1;33m,\u001b[0m\u001b[0mk\u001b[0m\u001b[1;33m=\u001b[0m\u001b[1;36m0.26\u001b[0m\u001b[1;33m,\u001b[0m \u001b[0mshowImshow\u001b[0m\u001b[1;33m=\u001b[0m\u001b[1;32mFalse\u001b[0m\u001b[1;33m)\u001b[0m\u001b[1;33m\u001b[0m\u001b[1;33m\u001b[0m\u001b[0m\n\u001b[0m",
      "\u001b[1;32me:\\OneDrive - UNIVERSIDAD DE HUELVA\\TFG\\VisionParkDetect\\ParkingSpaceDetector.ipynb\u001b[0m in \u001b[0;36mdetect_batch\u001b[1;34m(files, params, k, showConfusionMatrix, showImshow, setup)\u001b[0m\n\u001b[0;32m    291\u001b[0m     \u001b[1;34m\"        parking_img = cv.imread(filename)\\n\"\u001b[0m\u001b[1;33m,\u001b[0m\u001b[1;33m\u001b[0m\u001b[1;33m\u001b[0m\u001b[0m\n\u001b[0;32m    292\u001b[0m     \u001b[1;34m\"        img = parking_img\\n\"\u001b[0m\u001b[1;33m,\u001b[0m\u001b[1;33m\u001b[0m\u001b[1;33m\u001b[0m\u001b[0m\n\u001b[1;32m--> 293\u001b[1;33m     \u001b[1;34m\"\\n\"\u001b[0m\u001b[1;33m,\u001b[0m\u001b[1;33m\u001b[0m\u001b[1;33m\u001b[0m\u001b[0m\n\u001b[0m\u001b[0;32m    294\u001b[0m     \u001b[1;34m\"        if(setup):\\n\"\u001b[0m\u001b[1;33m,\u001b[0m\u001b[1;33m\u001b[0m\u001b[1;33m\u001b[0m\u001b[0m\n\u001b[0;32m    295\u001b[0m     \u001b[1;34m\"            setupPreprocess(img)\\n\"\u001b[0m\u001b[1;33m,\u001b[0m\u001b[1;33m\u001b[0m\u001b[1;33m\u001b[0m\u001b[0m\n",
      "\u001b[1;32me:\\OneDrive - UNIVERSIDAD DE HUELVA\\TFG\\VisionParkDetect\\ParkingSpaceDetector.ipynb\u001b[0m in \u001b[0;36mpreProcess\u001b[1;34m(img, showImshow, params)\u001b[0m\n\u001b[0;32m    217\u001b[0m     \u001b[1;34m\"    # imgEro = cv.erode(imgMedian, kernel, iterations=1)\\n\"\u001b[0m\u001b[1;33m,\u001b[0m\u001b[1;33m\u001b[0m\u001b[1;33m\u001b[0m\u001b[0m\n\u001b[0;32m    218\u001b[0m     \u001b[1;34m\"    # imgDilate = cv.dilate(imgEro, kernel, iterations=1)\\n\"\u001b[0m\u001b[1;33m,\u001b[0m\u001b[1;33m\u001b[0m\u001b[1;33m\u001b[0m\u001b[0m\n\u001b[1;32m--> 219\u001b[1;33m     \u001b[1;34m\"\\n\"\u001b[0m\u001b[1;33m,\u001b[0m\u001b[1;33m\u001b[0m\u001b[1;33m\u001b[0m\u001b[0m\n\u001b[0m\u001b[0;32m    220\u001b[0m     \u001b[1;34m\"    # Remove small objects\\n\"\u001b[0m\u001b[1;33m,\u001b[0m\u001b[1;33m\u001b[0m\u001b[1;33m\u001b[0m\u001b[0m\n\u001b[0;32m    221\u001b[0m     \u001b[1;34m\"    if(params.bw_size != -1):\\n\"\u001b[0m\u001b[1;33m,\u001b[0m\u001b[1;33m\u001b[0m\u001b[1;33m\u001b[0m\u001b[0m\n",
      "\u001b[1;32me:\\OneDrive - UNIVERSIDAD DE HUELVA\\TFG\\VisionParkDetect\\ParkingSpaceDetector.ipynb\u001b[0m in \u001b[0;36mbwareaopen\u001b[1;34m(imgOriginal, min_size, connectivity)\u001b[0m\n\u001b[0;32m    161\u001b[0m     \u001b[1;34m\"        for i in range(num_labels):\\n\"\u001b[0m\u001b[1;33m,\u001b[0m\u001b[1;33m\u001b[0m\u001b[1;33m\u001b[0m\u001b[0m\n\u001b[0;32m    162\u001b[0m     \u001b[1;34m\"            label_size = stats[i, cv.CC_STAT_AREA]\\n\"\u001b[0m\u001b[1;33m,\u001b[0m\u001b[1;33m\u001b[0m\u001b[1;33m\u001b[0m\u001b[0m\n\u001b[1;32m--> 163\u001b[1;33m     \u001b[1;34m\"            \\n\"\u001b[0m\u001b[1;33m,\u001b[0m\u001b[1;33m\u001b[0m\u001b[1;33m\u001b[0m\u001b[0m\n\u001b[0m\u001b[0;32m    164\u001b[0m     \u001b[1;34m\"            # remove connected components smaller than min_size\\n\"\u001b[0m\u001b[1;33m,\u001b[0m\u001b[1;33m\u001b[0m\u001b[1;33m\u001b[0m\u001b[0m\n\u001b[0;32m    165\u001b[0m     \u001b[1;34m\"            if label_size < min_size:\\n\"\u001b[0m\u001b[1;33m,\u001b[0m\u001b[1;33m\u001b[0m\u001b[1;33m\u001b[0m\u001b[0m\n",
      "\u001b[1;31mKeyboardInterrupt\u001b[0m: "
     ]
    }
   ],
   "source": [
    "from ipynb.fs.full.ParkingSpaceDetector import *\n",
    "import random\n",
    "import glob\n",
    "\n",
    "path = 'E:\\\\OneDrive - UNIVERSIDAD DE HUELVA\\TFG\\PKLot\\PKLot\\PKLot\\\\UFPR05\\\\Sunny'\n",
    "files = glob.glob(path+ '/**/*.jpg', recursive=True)            # Get all images in path\n",
    "selected_files = random.choices(files, k=int(len(files)/10))    # Select n random images from dataset\n",
    "params = DetectionParams((5,5), 0, cv.ADAPTIVE_THRESH_GAUSSIAN_C, 33, 9, 3, 305) # UPR05\n",
    "detect_batch(selected_files, params,k=0.26, showImshow=False)\n"
   ]
  },
  {
   "cell_type": "code",
   "execution_count": 7,
   "metadata": {},
   "outputs": [
    {
     "name": "stdout",
     "output_type": "stream",
     "text": [
      "207/207:  E:\\Documents\\PKLot\\PKLot\\PKLot\\PKLot\\UFPR05\\Sunny\\2013-02-24\\2013-02-24_12_55_07.jpg\n",
      "Precision: 0.802\n",
      "Recall: 0.852\n",
      "F1 Score: 0.826\n",
      "Accuracy: 0.851\n"
     ]
    },
    {
     "data": {
      "image/png": "[encoded data removed]",
      "text/plain": [
       "<Figure size 432x288 with 2 Axes>"
      ]
     },
     "metadata": {
      "needs_background": "light"
     },
     "output_type": "display_data"
    }
   ],
   "source": [
    "from ipynb.fs.full.ParkingSpaceDetector import *\n",
    "import random\n",
    "import glob\n",
    "\n",
    "path = 'E:\\\\Documents\\\\PKLot\\\\PKLot\\\\PKLot\\\\PKLot\\\\UFPR05'\n",
    "files = glob.glob(path+ '/**/*.jpg', recursive=True)            # Get all images in path\n",
    "selected_files = random.choices(files, k=int(len(files)/20))    # Select n random images from dataset\n",
    "\n",
    "detect_batch(selected_files, showImshow=False)\n",
    "# BW area open"
   ]
  },
  {
   "cell_type": "code",
   "execution_count": 20,
   "metadata": {},
   "outputs": [
    {
     "name": "stdout",
     "output_type": "stream",
     "text": [
      "379/379:  E:\\Documents\\PKLot\\PKLot\\PKLot\\PKLot\\UFPR04\\Sunny\\2012-12-12\\2012-12-12_16_55_13.jpg\n",
      "Precision: 0.908\n",
      "Recall: 0.832\n",
      "F1 Score: 0.868\n",
      "Accuracy: 0.861\n"
     ]
    },
    {
     "data": {
      "image/png": "[encoded data removed]",
      "text/plain": [
       "<Figure size 432x288 with 2 Axes>"
      ]
     },
     "metadata": {
      "needs_background": "light"
     },
     "output_type": "display_data"
    }
   ],
   "source": [
    "from ipynb.fs.full.ParkingSpaceDetector import *\n",
    "import random\n",
    "import glob\n",
    "#params = DetectionParams((5,5), 0, cv.ADAPTIVE_THRESH_GAUSSIAN_C, 27, 7, 3, 85) # PUCPR\n",
    "#params = DetectionParams((5,5), 0, cv.ADAPTIVE_THRESH_GAUSSIAN_C, 33, 7, 3, 85) # UPR05\n",
    "params = DetectionParams((5,5), 0, cv.ADAPTIVE_THRESH_GAUSSIAN_C, 29, 8, 3, 23) # UFPR04\n",
    "\n",
    "path = 'E:\\\\Documents\\\\PKLot\\\\PKLot\\\\PKLot\\\\PKLot\\\\UFPR04'\n",
    "files = glob.glob(path+ '/**/*.jpg', recursive=True)            # Get all images in path\n",
    "selected_files = random.choices(files, k=int(len(files)/10))    # Select n random images from dataset\n",
    "\n",
    "detect_batch(selected_files, params,k=0.26, showImshow=False)\n",
    "#UPR04"
   ]
  },
  {
   "cell_type": "code",
   "execution_count": 4,
   "metadata": {},
   "outputs": [
    {
     "name": "stdout",
     "output_type": "stream",
     "text": [
      "379/379:  E:\\Documents\\PKLot\\PKLot\\PKLot\\PKLot\\UFPR04\\Sunny\\2012-12-25\\2012-12-25_15_10_10.jpg\n",
      "Precision: 0.902\n",
      "Recall: 0.831\n",
      "F1 Score: 0.865\n",
      "Accuracy: 0.867\n"
     ]
    },
    {
     "data": {
      "image/png": "[encoded data removed]",
      "text/plain": [
       "<Figure size 432x288 with 2 Axes>"
      ]
     },
     "metadata": {
      "needs_background": "light"
     },
     "output_type": "display_data"
    }
   ],
   "source": [
    "from ipynb.fs.full.ParkingSpaceDetector import *\n",
    "import random\n",
    "import glob\n",
    "\n",
    "params = DetectionParams((5,5), 0, cv.ADAPTIVE_THRESH_GAUSSIAN_C, 29, 8, 3, 23) # UFPR04\n",
    "\n",
    "path = 'E:\\\\Documents\\\\PKLot\\\\PKLot\\\\PKLot\\\\PKLot\\\\UFPR04'\n",
    "files = glob.glob(path+ '/**/*.jpg', recursive=True)            # Get all images in path\n",
    "selected_files = random.choices(files, k=int(len(files)/10))    # Select n random images from dataset\n",
    "\n",
    "detect_batch(selected_files, params,0.26,  showImshow=False)\n",
    "#UPR04"
   ]
  },
  {
   "cell_type": "code",
   "execution_count": 27,
   "metadata": {},
   "outputs": [
    {
     "name": "stdout",
     "output_type": "stream",
     "text": [
      "447/447:  E:\\Documents\\PKLot\\PKLot\\PKLot\\PKLot\\PUCPR\\Sunny\\2012-09-18\\2012-09-18_06_49_49.jpg\n",
      "Precision: 0.886\n",
      "Recall: 0.959\n",
      "F1 Score: 0.921\n",
      "Accuracy: 0.912\n"
     ]
    },
    {
     "data": {
      "image/png": "[encoded data removed]",
      "text/plain": [
       "<Figure size 432x288 with 2 Axes>"
      ]
     },
     "metadata": {
      "needs_background": "light"
     },
     "output_type": "display_data"
    }
   ],
   "source": [
    "from ipynb.fs.full.ParkingSpaceDetector import *\n",
    "import random\n",
    "import glob\n",
    "params = DetectionParams((5,5), 0, cv.ADAPTIVE_THRESH_GAUSSIAN_C, 27, 7, 3, 85) # PUCPR\n",
    "\n",
    "path = 'E:\\\\Documents\\\\PKLot\\\\PKLot\\\\PKLot\\\\PKLot\\\\PUCPR'\n",
    "files = glob.glob(path+ '/**/*.jpg', recursive=True)            # Get all images in path\n",
    "selected_files = random.choices(files, k=int(len(files)/10))    # Select n random images from dataset\n",
    "\n",
    "detect_batch(selected_files, params, showImshow=False)\n",
    "#PUCPR"
   ]
  },
  {
   "cell_type": "code",
   "execution_count": 21,
   "metadata": {},
   "outputs": [
    {
     "name": "stdout",
     "output_type": "stream",
     "text": [
      "447/447:  E:\\Documents\\PKLot\\PKLot\\PKLot\\PKLot\\PUCPR\\Sunny\\2012-10-30\\2012-10-30_17_47_26.jpg\n",
      "Precision: 0.905\n",
      "Recall: 0.895\n",
      "F1 Score: 0.900\n",
      "Accuracy: 0.902\n"
     ]
    },
    {
     "data": {
      "image/png": "[encoded data removed]",
      "text/plain": [
       "<Figure size 432x288 with 2 Axes>"
      ]
     },
     "metadata": {
      "needs_background": "light"
     },
     "output_type": "display_data"
    }
   ],
   "source": [
    "from ipynb.fs.full.ParkingSpaceDetector import *\n",
    "import random\n",
    "import glob\n",
    "params = DetectionParams((5,5), 0, cv.ADAPTIVE_THRESH_GAUSSIAN_C, 27, 7, 3, 85) # PUCPR\n",
    "\n",
    "path = 'E:\\\\Documents\\\\PKLot\\\\PKLot\\\\PKLot\\\\PKLot\\\\PUCPR'\n",
    "files = glob.glob(path+ '/**/*.jpg', recursive=True)            # Get all images in path\n",
    "selected_files = random.choices(files, k=int(len(files)/10))    # Select n random images from dataset\n",
    "\n",
    "detect_batch(selected_files, params,k=0.26, showImshow=False)\n",
    "#PUCPR"
   ]
  },
  {
   "cell_type": "code",
   "execution_count": 19,
   "metadata": {},
   "outputs": [
    {
     "name": "stdout",
     "output_type": "stream",
     "text": [
      "415/415:  E:\\Documents\\PKLot\\PKLot\\PKLot\\PKLot\\UFPR05\\Sunny\\2013-03-21\\2013-03-21_06_30_00.jpg\n",
      "Precision: 0.844\n",
      "Recall: 0.827\n",
      "F1 Score: 0.836\n",
      "Accuracy: 0.867\n"
     ]
    },
    {
     "data": {
      "image/png": "[encoded data removed]",
      "text/plain": [
       "<Figure size 432x288 with 2 Axes>"
      ]
     },
     "metadata": {
      "needs_background": "light"
     },
     "output_type": "display_data"
    }
   ],
   "source": [
    "from ipynb.fs.full.ParkingSpaceDetector import *\n",
    "import random\n",
    "import glob\n",
    "class DetectionParams:\n",
    "    def __init__(self, gb_k, gb_s, at_method, at_blockSize, at_C, median_k=-1, bw_size=-1, bw_conn=8):\n",
    "        self.gb_k = gb_k # GaussianBlur kernel\n",
    "        self.gb_s = gb_s # GaussianBlur sigma (std. deviation)\n",
    "        self.at_method = at_method # adaptiveThreshold method\n",
    "        self.at_blockSize = at_blockSize # adaptiveThreshold blockSizeneighborhood that is used to calculate a threshold value for the pixel\n",
    "        self.at_C = at_C # adaptiveThreshold C constant to be substracted\n",
    "        self.median_k = median_k # Median filter kernel size (-1 if not desired to apply)\n",
    "        self.bw_size = bw_size # bwareaopen remove objects smaller than this size (-1 if not desired to apply)\n",
    "        self.bw_conn = bw_conn # bwareaopen neighborhood connectivity (default 8)\n",
    "\n",
    "\n",
    "# params = DetectionParams((5,5), 0, cv.ADAPTIVE_THRESH_GAUSSIAN_C, 33, 7, 3, 85) # UPR05\n",
    "params = DetectionParams((5,5), 0, cv.ADAPTIVE_THRESH_GAUSSIAN_C, 33, 9, 3, 305) # UPR05\n",
    "\n",
    "path = 'E:\\\\Documents\\\\PKLot\\\\PKLot\\\\PKLot\\\\PKLot\\\\UFPR05'\n",
    "files = glob.glob(path+ '/**/*.jpg', recursive=True)            # Get all images in path\n",
    "selected_files = random.choices(files, k=int(len(files)/10))    # Select n random images from dataset\n",
    "\n",
    "detect_batch(selected_files, params, k=0.22, showImshow=False, setup=False)\n",
    "\n",
    "#UPR05"
   ]
  },
  {
   "cell_type": "code",
   "execution_count": 17,
   "metadata": {},
   "outputs": [
    {
     "name": "stdout",
     "output_type": "stream",
     "text": [
      "100/100:  E:\\Documents\\PKLot\\PKLot\\PKLot\\PKLot\\UFPR05\\Cloudy\\2013-02-26\\2013-02-26_18_54_40.jpg\n",
      "Precision: 0.575\n",
      "Recall: 0.996\n",
      "F1 Score: 0.729\n",
      "Accuracy: 0.688\n"
     ]
    },
    {
     "data": {
      "image/png": "[encoded data removed]",
      "text/plain": [
       "<Figure size 432x288 with 2 Axes>"
      ]
     },
     "metadata": {
      "needs_background": "light"
     },
     "output_type": "display_data"
    }
   ],
   "source": [
    "detect_batch(selected_files, params, k=0.35, showImshow=False, setup=False)"
   ]
  }
 ],
 "metadata": {
  "kernelspec": {
   "display_name": "Python 3.9.2 ('VisionParkDetectEnv': venv)",
   "language": "python",
   "name": "python3"
  },
  "language_info": {
   "codemirror_mode": {
    "name": "ipython",
    "version": 3
   },
   "file_extension": ".py",
   "mimetype": "text/x-python",
   "name": "python",
   "nbconvert_exporter": "python",
   "pygments_lexer": "ipython3",
   "version": "3.9.2"
  },
  "orig_nbformat": 4,
  "vscode": {
   "interpreter": {
    "hash": "751c3e3c5f8bc6a4e4e068bb230f26d845892c4443aea059e9acc5405f3faaee"
   }
  }
 },
 "nbformat": 4,
 "nbformat_minor": 2
}
