{
 "cells": [
  {
   "attachments": {},
   "cell_type": "markdown",
   "metadata": {},
   "source": [
    "# Find suitable detector params for each parking"
   ]
  },
  {
   "cell_type": "code",
   "execution_count": 1,
   "metadata": {},
   "outputs": [],
   "source": [
    "import random\n",
    "import numpy\n",
    "from datetime import datetime\n",
    "from src.data.ParkingProvider import NoSpacesException, NoImageException\n",
    "from src.metrics.PerformanceMetricsProviderSklearn import PerformanceMetricsProviderSklearn\n",
    "from src.metrics.entity.PerformanceMetrics import PerformanceMetrics\n",
    "from src.detector.entity.DetectionParams import DetectionParams\n",
    "from src.data.ParkingProviderLocal import ParkingProviderLocalParams,ParkingProviderLocal\n",
    "from src.data.ParkingProviderLocalSqlite import ParkingProviderLocalSqlite, ParkingProviderLocalSqliteParams\n",
    "from src.data.ParkingProviderSqlite import ParkingProviderSqlite, ParkingProviderSqliteParams\n",
    "\n",
    "from src.app.ParkingOccupancyProcessorLocal import ParkingOccupancyProcessorLocal\n",
    "from src.app.ParkingOccupancyProcessorLocalSqlite import ParkingOccupancyProcessorLocalSqlite\n",
    "from src.app.ParkingOccupancyProcessorSqlite import ParkingOccupancyProcessorSqlite\n",
    "\n",
    "\n",
    "from src.detector.OccupancyDetectorBorders import OccupancyDetectorBorders\n",
    "import cv2 as cv\n",
    "\n",
    "metrics_list = list()\n",
    "row_names = list()\n",
    "random_seed = datetime.now().timestamp\n",
    "\n",
    "def test_parking(parking_id, detection_params:DetectionParams, row_name, local_provider=True, process_batch=False):\n",
    "    metrics_provider: PerformanceMetricsProviderSklearn = PerformanceMetricsProviderSklearn()\n",
    "\n",
    "    if local_provider:\n",
    "        provider_params = ParkingProviderLocalParams(\n",
    "        parking_id=parking_id, path='E:\\\\Documents\\\\PKLot\\\\PKLot\\\\PKLot\\\\PKLot\\\\'+parking_id, k=20, random_seed=random_seed)\n",
    "        processor = ParkingOccupancyProcessorLocal(\n",
    "        parking_provider_params=provider_params, detection_params=detection_params, performance_metrics_provider=metrics_provider)\n",
    "\n",
    "    \n",
    "    else:\n",
    "        # provider_params = ParkingProviderLocalSqliteParams(\n",
    "        # parking_id=parking_id, path='E:\\\\Documents\\\\PKLot\\\\PKLot\\\\PKLot\\\\PKLot\\\\'+parking_id, k=4, random_seed=random_seed,db_file ='E:/OneDrive - UNIVERSIDAD DE HUELVA\\TFG\\VisionParkWeb-main\\VisionParkWeb\\VisionParkWeb\\db.sqlite3')\n",
    "        # processor = ParkingOccupancyProcessorLocalSqlite(\n",
    "        # parking_provider_params=provider_params, detection_params=detection_params, performance_metrics_provider=metrics_provider)\n",
    "\n",
    "        provider_params = ParkingProviderSqliteParams( parking_id=parking_id, db_file ='E:/OneDrive - UNIVERSIDAD DE HUELVA\\TFG\\VisionParkWeb-main\\VisionParkWeb\\VisionParkWeb\\db.sqlite3')\n",
    "        processor = ParkingOccupancyProcessorSqlite(\n",
    "        parking_provider_params=provider_params, detection_params=detection_params, performance_metrics_provider=metrics_provider)\n",
    "\n",
    "    \n",
    "    \n",
    "    if process_batch:\n",
    "        try:\n",
    "            detection_params.show_imshow=False\n",
    "            processor.process_batch()\n",
    "        except (NoSpacesException, NoImageException) as ex:\n",
    "            print(f\"Finished processing samples: \", ex)\n",
    "\n",
    "    else:\n",
    "        while True:\n",
    "            try:\n",
    "                processor.process()\n",
    "                if not local_provider:\n",
    "                    break\n",
    "            except (NoSpacesException, NoImageException) as ex:\n",
    "                print(f\"Finished processing samples: \", ex)\n",
    "                break\n",
    "       \n",
    "    if local_provider:\n",
    "        metrics_provider.calculate_metrics()\n",
    "        metrics_provider.show_confusion_matrix()\n",
    "\n",
    "        metrics_list.append(metrics_provider.metrics)\n",
    "        row_names.append(row_name)\n",
    "    \n",
    "def setup_params(parking_id, initial_params:DetectionParams=None):\n",
    "    img_empty = cv.imread(f\"E:\\OneDrive - UNIVERSIDAD DE HUELVA\\TFG\\VisionParkDetect\\dataset\\{parking_id}_empty.jpg\", cv.IMREAD_GRAYSCALE)\n",
    "    \n",
    "    provider_params = ParkingProviderLocalParams(\n",
    "        parking_id=parking_id, path='E:\\\\Documents\\\\PKLot\\\\PKLot\\\\PKLot\\\\PKLot\\\\'+parking_id, k=200)\n",
    "\n",
    "    parking_provider = ParkingProviderLocal(provider_params)\n",
    "\n",
    "    # metrics: PerformanceMetricsProviderSklearn = PerformanceMetricsProviderSklearn()\n",
    "\n",
    "    # processor = ParkingOccupancyProcessorLocal(\n",
    "    #     parking_provider_params=provider_params, detection_params=PARAMS_UFPR04, performance_metrics_provider=metrics)\n",
    "\n",
    "    try:\n",
    "        params = initial_params\n",
    "        while True:\n",
    "        # while (it > 0 and i < it) or it < 0:\n",
    "        #     i = i+1\n",
    "        #     print(f\"Processing sample: {str(i)}\")\n",
    "        #     processor.process()\n",
    "\n",
    "            parking = parking_provider.get_parking()\n",
    "            img = parking.image\n",
    "            spaces = parking.spaces\n",
    "\n",
    "            params = OccupancyDetectorBorders.setup_params_img(img, spaces, params, img_empty)\n",
    "\n",
    "            \n",
    "            cv.namedWindow(\"Press ESC to exit, other key to continue\")\n",
    "            key = cv.waitKey(0)\n",
    "            if key == 27:\n",
    "                cv.destroyAllWindows()\n",
    "                break  \n",
    "              \n",
    "            cv.destroyAllWindows()\n",
    "   \n",
    "    except (NoSpacesException, NoImageException) as ex:\n",
    "        print(f\"Finished processing: \", ex)\n",
    "    finally:\n",
    "        return params\n",
    "    "
   ]
  },
  {
   "cell_type": "code",
   "execution_count": 7,
   "metadata": {},
   "outputs": [
    {
     "name": "stdout",
     "output_type": "stream",
     "text": [
      "Selected 947 files\n"
     ]
    },
    {
     "ename": "KeyboardInterrupt",
     "evalue": "",
     "output_type": "error",
     "traceback": [
      "\u001b[1;31m---------------------------------------------------------------------------\u001b[0m",
      "\u001b[1;31mKeyboardInterrupt\u001b[0m                         Traceback (most recent call last)",
      "\u001b[1;32mC:\\Users\\VCTOR~1\\AppData\\Local\\Temp/ipykernel_23896/4040027492.py\u001b[0m in \u001b[0;36m<module>\u001b[1;34m\u001b[0m\n\u001b[0;32m      4\u001b[0m \u001b[0mPARAMS_UFPR04\u001b[0m\u001b[1;33m.\u001b[0m\u001b[0mparking_id\u001b[0m \u001b[1;33m=\u001b[0m \u001b[1;34m'UFPR04'\u001b[0m\u001b[1;33m\u001b[0m\u001b[1;33m\u001b[0m\u001b[0m\n\u001b[0;32m      5\u001b[0m \u001b[1;33m\u001b[0m\u001b[0m\n\u001b[1;32m----> 6\u001b[1;33m \u001b[0mtest_parking\u001b[0m\u001b[1;33m(\u001b[0m\u001b[1;34m'UFPR04'\u001b[0m\u001b[1;33m,\u001b[0m \u001b[0mPARAMS_UFPR04\u001b[0m\u001b[1;33m,\u001b[0m \u001b[1;34m'UFPR04 GaussianBlur'\u001b[0m\u001b[1;33m,\u001b[0m\u001b[0mlocal_provider\u001b[0m\u001b[1;33m=\u001b[0m\u001b[1;32mTrue\u001b[0m\u001b[1;33m,\u001b[0m \u001b[0mprocess_batch\u001b[0m\u001b[1;33m=\u001b[0m\u001b[1;32mFalse\u001b[0m\u001b[1;33m)\u001b[0m\u001b[1;33m\u001b[0m\u001b[1;33m\u001b[0m\u001b[0m\n\u001b[0m",
      "\u001b[1;32mC:\\Users\\VCTOR~1\\AppData\\Local\\Temp/ipykernel_23896/3766614696.py\u001b[0m in \u001b[0;36mtest_parking\u001b[1;34m(parking_id, detection_params, row_name, local_provider, process_batch)\u001b[0m\n\u001b[0;32m     54\u001b[0m         \u001b[1;32mwhile\u001b[0m \u001b[1;32mTrue\u001b[0m\u001b[1;33m:\u001b[0m\u001b[1;33m\u001b[0m\u001b[1;33m\u001b[0m\u001b[0m\n\u001b[0;32m     55\u001b[0m             \u001b[1;32mtry\u001b[0m\u001b[1;33m:\u001b[0m\u001b[1;33m\u001b[0m\u001b[1;33m\u001b[0m\u001b[0m\n\u001b[1;32m---> 56\u001b[1;33m                 \u001b[0mprocessor\u001b[0m\u001b[1;33m.\u001b[0m\u001b[0mprocess\u001b[0m\u001b[1;33m(\u001b[0m\u001b[1;33m)\u001b[0m\u001b[1;33m\u001b[0m\u001b[1;33m\u001b[0m\u001b[0m\n\u001b[0m\u001b[0;32m     57\u001b[0m                 \u001b[1;32mif\u001b[0m \u001b[1;32mnot\u001b[0m \u001b[0mlocal_provider\u001b[0m\u001b[1;33m:\u001b[0m\u001b[1;33m\u001b[0m\u001b[1;33m\u001b[0m\u001b[0m\n\u001b[0;32m     58\u001b[0m                     \u001b[1;32mbreak\u001b[0m\u001b[1;33m\u001b[0m\u001b[1;33m\u001b[0m\u001b[0m\n",
      "\u001b[1;32me:\\OneDrive - UNIVERSIDAD DE HUELVA\\TFG\\VisionParkDetect\\src\\app\\ParkingOccupancyProcessor.py\u001b[0m in \u001b[0;36mprocess\u001b[1;34m(self)\u001b[0m\n\u001b[0;32m     63\u001b[0m         \u001b[0mdetection_params\u001b[0m \u001b[1;33m=\u001b[0m \u001b[0mself\u001b[0m\u001b[1;33m.\u001b[0m\u001b[0moccupancy_detector\u001b[0m\u001b[1;33m.\u001b[0m\u001b[0mparams\u001b[0m\u001b[1;33m\u001b[0m\u001b[1;33m\u001b[0m\u001b[0m\n\u001b[0;32m     64\u001b[0m \u001b[1;33m\u001b[0m\u001b[0m\n\u001b[1;32m---> 65\u001b[1;33m         self.occupancy_detector.detect_image(detection_params,\n\u001b[0m\u001b[0;32m     66\u001b[0m                                              parking.image, parking.image_date, parking.spaces)\n\u001b[0;32m     67\u001b[0m \u001b[1;33m\u001b[0m\u001b[0m\n",
      "\u001b[1;32me:\\OneDrive - UNIVERSIDAD DE HUELVA\\TFG\\VisionParkDetect\\src\\detector\\OccupancyDetectorBorders.py\u001b[0m in \u001b[0;36mdetect_image\u001b[1;34m(params, parking_img, parking_img_date, spaces)\u001b[0m\n\u001b[0;32m     24\u001b[0m         \u001b[1;31m#     parking_img, params, params.show_imshow)\u001b[0m\u001b[1;33m\u001b[0m\u001b[1;33m\u001b[0m\u001b[1;33m\u001b[0m\u001b[0m\n\u001b[0;32m     25\u001b[0m \u001b[1;33m\u001b[0m\u001b[0m\n\u001b[1;32m---> 26\u001b[1;33m         imgPre = OccupancyDetectorBorders.imdiff_preProcess(\n\u001b[0m\u001b[0;32m     27\u001b[0m             params, parking_img)\n\u001b[0;32m     28\u001b[0m \u001b[1;33m\u001b[0m\u001b[0m\n",
      "\u001b[1;32me:\\OneDrive - UNIVERSIDAD DE HUELVA\\TFG\\VisionParkDetect\\src\\detector\\OccupancyDetectorBorders.py\u001b[0m in \u001b[0;36mimdiff_preProcess\u001b[1;34m(params, img, show_imshow)\u001b[0m\n\u001b[0;32m     76\u001b[0m         \u001b[1;31m# Remove small objects\u001b[0m\u001b[1;33m\u001b[0m\u001b[1;33m\u001b[0m\u001b[1;33m\u001b[0m\u001b[0m\n\u001b[0;32m     77\u001b[0m         \u001b[1;32mif\u001b[0m\u001b[1;33m(\u001b[0m\u001b[0mparams\u001b[0m\u001b[1;33m.\u001b[0m\u001b[0mbw_size\u001b[0m \u001b[1;33m!=\u001b[0m \u001b[1;33m-\u001b[0m\u001b[1;36m1\u001b[0m\u001b[1;33m)\u001b[0m\u001b[1;33m:\u001b[0m\u001b[1;33m\u001b[0m\u001b[1;33m\u001b[0m\u001b[0m\n\u001b[1;32m---> 78\u001b[1;33m             imgBw = OccupancyDetectorBorders.bwareaopen(\n\u001b[0m\u001b[0;32m     79\u001b[0m                 imgMedian, params.bw_size)\n\u001b[0;32m     80\u001b[0m         \u001b[1;32melse\u001b[0m\u001b[1;33m:\u001b[0m\u001b[1;33m\u001b[0m\u001b[1;33m\u001b[0m\u001b[0m\n",
      "\u001b[1;32me:\\OneDrive - UNIVERSIDAD DE HUELVA\\TFG\\VisionParkDetect\\src\\detector\\OccupancyDetectorBorders.py\u001b[0m in \u001b[0;36mbwareaopen\u001b[1;34m(img_input, min_size, connectivity)\u001b[0m\n\u001b[0;32m    361\u001b[0m             \u001b[1;31m# remove connected components smaller than min_size\u001b[0m\u001b[1;33m\u001b[0m\u001b[1;33m\u001b[0m\u001b[1;33m\u001b[0m\u001b[0m\n\u001b[0;32m    362\u001b[0m             \u001b[1;32mif\u001b[0m \u001b[0mlabel_size\u001b[0m \u001b[1;33m<\u001b[0m \u001b[0mmin_size\u001b[0m\u001b[1;33m:\u001b[0m\u001b[1;33m\u001b[0m\u001b[1;33m\u001b[0m\u001b[0m\n\u001b[1;32m--> 363\u001b[1;33m                 \u001b[0mimg\u001b[0m\u001b[1;33m[\u001b[0m\u001b[0mlabels\u001b[0m \u001b[1;33m==\u001b[0m \u001b[0mi\u001b[0m\u001b[1;33m]\u001b[0m \u001b[1;33m=\u001b[0m \u001b[1;36m0\u001b[0m\u001b[1;33m\u001b[0m\u001b[1;33m\u001b[0m\u001b[0m\n\u001b[0m\u001b[0;32m    364\u001b[0m \u001b[1;33m\u001b[0m\u001b[0m\n\u001b[0;32m    365\u001b[0m         \u001b[1;32mreturn\u001b[0m \u001b[0mimg\u001b[0m\u001b[1;33m\u001b[0m\u001b[1;33m\u001b[0m\u001b[0m\n",
      "\u001b[1;31mKeyboardInterrupt\u001b[0m: "
     ]
    }
   ],
   "source": [
    "PARAMS_UFPR04 = DetectionParams((3, 3), 0, cv.ADAPTIVE_THRESH_GAUSSIAN_C, at_blockSize=31, at_C=10, median_k=3, bw_size=80, vacant_threshold=0.05, show_imshow=True)  # UFPR04\n",
    "PARAMS_UFPR04.bf_d = None\n",
    "PARAMS_UFPR04.diff_threshold = 60\n",
    "PARAMS_UFPR04.parking_id = 'UFPR04'\n",
    "\n",
    "test_parking('UFPR04', PARAMS_UFPR04, 'UFPR04 GaussianBlur',local_provider=True, process_batch=False)"
   ]
  },
  {
   "attachments": {},
   "cell_type": "markdown",
   "metadata": {},
   "source": [
    "## UFPR04"
   ]
  },
  {
   "cell_type": "code",
   "execution_count": 3,
   "metadata": {},
   "outputs": [
    {
     "name": "stdout",
     "output_type": "stream",
     "text": [
      "Selected 18 files\n",
      "DetectionParams\n",
      "gb_k: (3, 3)\n",
      "gb_s: 0\n",
      "at_method: 1\n",
      "at_blockSize: 31\n",
      "at_C: 10\n",
      "median_k: 5\n",
      "bw_size: 150\n",
      "bw_conn: 8\n",
      "channel: v\n",
      "vacant_threshold: 0.3\n",
      "show_imshow: True\n",
      "\n",
      "DetectionParams(gb_k=(3, 3), gb_s=0, at_method=cv.ADAPTIVE_THRESH_GAUSSIAN_C, at_blockSize=31, at_C=10, median_k=5, bw_size=150, vacant_threshold=0.3, show_imshow=True)\n"
     ]
    }
   ],
   "source": [
    "PARAMS_UFPR04 = DetectionParams((3,3), 0, cv.ADAPTIVE_THRESH_GAUSSIAN_C, at_blockSize=31, at_C=10, median_k=5, bw_size=150, vacant_threshold=0.23, show_imshow=True)  # UFPR04\n",
    "\n",
    "p = setup_params('UFPR04',PARAMS_UFPR04)\n",
    "p.show_imshow=True\n",
    "print(p)"
   ]
  },
  {
   "cell_type": "code",
   "execution_count": 40,
   "metadata": {},
   "outputs": [
    {
     "name": "stdout",
     "output_type": "stream",
     "text": [
      "Selected 947 files\n",
      "Finished processing samples:  Finished fetching path\n",
      "Precision: 0.913\n",
      "specificity: 0.893\n",
      "Recall: 0.822\n",
      "F1 Score: 0.865\n",
      "Accuracy: 0.852\n"
     ]
    },
    {
     "data": {
      "image/png": "[encoded data removed]",
      "text/plain": [
       "<Figure size 432x288 with 2 Axes>"
      ]
     },
     "metadata": {
      "needs_background": "light"
     },
     "output_type": "display_data"
    }
   ],
   "source": [
    "PARAMS_UFPR04 = DetectionParams((9, 9), 0, cv.ADAPTIVE_THRESH_GAUSSIAN_C, at_blockSize=31, at_C=10, median_k=3, bw_size=50, vacant_threshold=0.23, show_imshow=True)  # UFPR04\n",
    "PARAMS_UFPR04.bf_d = None\n",
    "test_parking('UFPR04', PARAMS_UFPR04, 'UFPR04 GaussianBlur',local_provider=True, process_batch=False)"
   ]
  },
  {
   "attachments": {},
   "cell_type": "markdown",
   "metadata": {},
   "source": [
    "#### With web app segmentation"
   ]
  },
  {
   "cell_type": "code",
   "execution_count": 19,
   "metadata": {},
   "outputs": [],
   "source": [
    "PARAMS_UFPR04 = DetectionParams((3,3), 0, cv.ADAPTIVE_THRESH_GAUSSIAN_C, at_blockSize=31, at_C=10, median_k=3, bw_size=150, vacant_threshold=0.12, show_imshow=True)  # UFPR04\n",
    "PARAMS_UFPR04.bf_d = None\n",
    "test_parking('UFPR04', PARAMS_UFPR04, 'UFPR04',local_provider=False, process_batch=False)"
   ]
  },
  {
   "attachments": {},
   "cell_type": "markdown",
   "metadata": {},
   "source": [
    "## UFPR05"
   ]
  },
  {
   "cell_type": "code",
   "execution_count": 3,
   "metadata": {},
   "outputs": [
    {
     "name": "stdout",
     "output_type": "stream",
     "text": [
      "Selected 1038 files\n",
      "Processing 1038 files with 16 workers\n"
     ]
    },
    {
     "name": "stderr",
     "output_type": "stream",
     "text": [
      "100%|██████████| 1038/1038 [02:07<00:00,  8.12it/s]\n"
     ]
    },
    {
     "name": "stdout",
     "output_type": "stream",
     "text": [
      "Precision: 0.882\n",
      "specificity: 0.929\n",
      "Recall: 0.761\n",
      "F1 Score: 0.817\n",
      "Accuracy: 0.860\n"
     ]
    },
    {
     "data": {
      "image/png": "[encoded data removed]",
      "text/plain": [
       "<Figure size 432x288 with 2 Axes>"
      ]
     },
     "metadata": {
      "needs_background": "light"
     },
     "output_type": "display_data"
    }
   ],
   "source": [
    "PARAMS_UFPR04 = DetectionParams((3,3), 0, cv.ADAPTIVE_THRESH_GAUSSIAN_C, at_blockSize=31, at_C=10, median_k=3, bw_size=150, vacant_threshold=0.12, show_imshow=True)  # UFPR04\n",
    "PARAMS_UFPR05 = DetectionParams(gb_k=(3,3), gb_s=0, at_method=cv.ADAPTIVE_THRESH_GAUSSIAN_C, at_blockSize=33, at_C=9, median_k=3, bw_size=20, vacant_threshold=0.26, show_imshow=False)\n",
    "# PARAMS_UFPR05.bf_d = 4\n",
    "# PARAMS_UFPR05.bf_sigma_color = 60\n",
    "# PARAMS_UFPR05.bf_sigma_space = 60\n",
    "# p = setup_params('UFPR05', PARAMS_UFPR05)\n",
    "# p.show_imshow=True\n",
    "# print(p)\n",
    "\n",
    "test_parking('UFPR05', PARAMS_UFPR05, 'UFPR05',local_provider=True, process_batch=True)\n"
   ]
  },
  {
   "cell_type": "code",
   "execution_count": 39,
   "metadata": {},
   "outputs": [],
   "source": [
    "PARAMS_UFPR05 = DetectionParams(gb_k=None, gb_s=0, at_method=cv.ADAPTIVE_THRESH_GAUSSIAN_C, at_blockSize=33, at_C=9, median_k=3, bw_size=20, vacant_threshold=0.2, show_imshow=True)\n",
    "# PARAMS_UFPR05.bf_d = 4\n",
    "# PARAMS_UFPR05.bf_sigma_color = 60\n",
    "# PARAMS_UFPR05.bf_sigma_space = 60\n",
    "# p = setup_params('UFPR05', PARAMS_UFPR05)\n",
    "# p.show_imshow=True\n",
    "# print(p)\n",
    "\n",
    "test_parking('UFPR05', PARAMS_UFPR05, 'UFPR05',local_provider=True, process_batch=False)"
   ]
  },
  {
   "cell_type": "code",
   "execution_count": null,
   "metadata": {},
   "outputs": [],
   "source": [
    "# p = setup_params('UFPR05', PARAMS_UFPR05)\n",
    "# p.show_imshow=True\n",
    "# print(p)\n",
    "\n",
    "PARAMS_UFPR05 = DetectionParams(gb_k=(5, 5), gb_s=0, at_method=cv.ADAPTIVE_THRESH_GAUSSIAN_C, at_blockSize=33, at_C=7, median_k=3, bw_size=85, vacant_threshold=0.3, show_imshow=True)\n",
    "test_parking('UFPR05', PARAMS_UFPR05, 'UFPR05 params 2', process_batch=True)"
   ]
  },
  {
   "cell_type": "code",
   "execution_count": null,
   "metadata": {},
   "outputs": [],
   "source": [
    "PARAMS_UFPR05 = DetectionParams(gb_k=(5, 5), gb_s=0, at_method=cv.ADAPTIVE_THRESH_GAUSSIAN_C, at_blockSize=33, at_C=9, median_k=3, bw_size=300, vacant_threshold=0.22, show_imshow=True)\n",
    "# p = setup_params('UFPR05', PARAMS_UFPR05)\n",
    "# p.show_imshow=True\n",
    "# print(p)\n",
    "\n",
    "test_parking('UFPR05', PARAMS_UFPR05, 'UFPR05 params 3', process_batch=True)"
   ]
  },
  {
   "cell_type": "code",
   "execution_count": null,
   "metadata": {},
   "outputs": [],
   "source": [
    "PerformanceMetricsProviderSklearn.show_dataframe(metrics_list, row_names)\n"
   ]
  },
  {
   "attachments": {},
   "cell_type": "markdown",
   "metadata": {},
   "source": [
    "#### With web app segmentation"
   ]
  },
  {
   "cell_type": "code",
   "execution_count": 27,
   "metadata": {},
   "outputs": [],
   "source": [
    "PARAMS_UFPR05 = DetectionParams(gb_k=(5, 5), gb_s=0, at_method=cv.ADAPTIVE_THRESH_GAUSSIAN_C, at_blockSize=33, at_C=9, median_k=3, bw_size=300, vacant_threshold=0.12, show_imshow=True)\n",
    "PARAMS_UFPR05.bf_d = None\n",
    "test_parking('UFPR05', PARAMS_UFPR05, 'UFPR05',local_provider=False, process_batch=False)"
   ]
  },
  {
   "attachments": {},
   "cell_type": "markdown",
   "metadata": {},
   "source": [
    "## PUCPR"
   ]
  },
  {
   "cell_type": "code",
   "execution_count": 28,
   "metadata": {},
   "outputs": [
    {
     "name": "stdout",
     "output_type": "stream",
     "text": [
      "Selected 22 files\n",
      "DetectionParams\n",
      "gb_k: (5, 5)\n",
      "gb_s: 0\n",
      "at_method: 1\n",
      "at_blockSize: 33\n",
      "at_C: 9\n",
      "median_k: 3\n",
      "bw_size: 300\n",
      "bw_conn: 8\n",
      "channel: v\n",
      "vacant_threshold: 0.3\n",
      "show_imshow: True\n",
      "\n",
      "DetectionParams(gb_k=(5, 5), gb_s=0, at_method=cv.ADAPTIVE_THRESH_GAUSSIAN_C, at_blockSize=33, at_C=9, median_k=3, bw_size=300, vacant_threshold=0.3, show_imshow=True)\n"
     ]
    }
   ],
   "source": [
    "PARAMS_UFPR05 = DetectionParams(gb_k=(5, 5), gb_s=0, at_method=cv.ADAPTIVE_THRESH_GAUSSIAN_C, at_blockSize=33, at_C=9, median_k=3, bw_size=300, vacant_threshold=0.12, show_imshow=True)\n",
    "\n",
    "p = setup_params('PUCPR', PARAMS_UFPR05)\n",
    "p.show_imshow=True\n",
    "print(p)"
   ]
  },
  {
   "cell_type": "code",
   "execution_count": 4,
   "metadata": {},
   "outputs": [
    {
     "name": "stdout",
     "output_type": "stream",
     "text": [
      "Selected 1118 files\n",
      "Processing 1118 files with 16 workers\n"
     ]
    },
    {
     "name": "stderr",
     "output_type": "stream",
     "text": [
      "100%|██████████| 1118/1118 [02:56<00:00,  6.32it/s]\n"
     ]
    },
    {
     "name": "stdout",
     "output_type": "stream",
     "text": [
      "Precision: 0.909\n",
      "specificity: 0.905\n",
      "Recall: 0.920\n",
      "F1 Score: 0.915\n",
      "Accuracy: 0.913\n"
     ]
    },
    {
     "data": {
      "image/png": "[encoded data removed]",
      "text/plain": [
       "<Figure size 432x288 with 2 Axes>"
      ]
     },
     "metadata": {
      "needs_background": "light"
     },
     "output_type": "display_data"
    }
   ],
   "source": [
    "PARAMS_PUCPR = DetectionParams(gb_k=(5, 5), gb_s=0, at_method=cv.ADAPTIVE_THRESH_GAUSSIAN_C, at_blockSize=27, at_C=7, median_k=3, bw_size=85, vacant_threshold=0.28, show_imshow=True)\n",
    "# p = setup_params('UFPR05', PARAMS_UFPR05)\n",
    "# p.show_imshow=True\n",
    "# print(p)\n",
    "\n",
    "test_parking('PUCPR', PARAMS_PUCPR, 'PUCPR', process_batch=True)"
   ]
  },
  {
   "cell_type": "code",
   "execution_count": 36,
   "metadata": {},
   "outputs": [],
   "source": [
    "PARAMS_PUCPR = DetectionParams(gb_k=(5, 5), gb_s=0, at_method=cv.ADAPTIVE_THRESH_GAUSSIAN_C, at_blockSize=27, at_C=7, median_k=3, bw_size=85, vacant_threshold=0.28, show_imshow=True)\n",
    "# p = setup_params('UFPR05', PARAMS_UFPR05)\n",
    "# p.show_imshow=True\n",
    "# print(p)\n",
    "\n",
    "test_parking('PUCPR', PARAMS_PUCPR, 'PUCPR', process_batch=False, local_provider=False)"
   ]
  },
  {
   "cell_type": "code",
   "execution_count": 11,
   "metadata": {},
   "outputs": [],
   "source": [
    "PARAMS_PUCPR = DetectionParams(gb_k=(5, 5), gb_s=0, at_method=cv.ADAPTIVE_THRESH_GAUSSIAN_C, at_blockSize=27, at_C=7, median_k=3, bw_size=85, vacant_threshold=0.2, show_imshow=True)\n",
    "# p = setup_params('UFPR05', PARAMS_UFPR05)\n",
    "# p.show_imshow=True\n",
    "# print(p)\n",
    "\n",
    "test_parking('PUCPR', PARAMS_PUCPR, 'PUCPR', process_batch=False, local_provider=False)"
   ]
  },
  {
   "cell_type": "code",
   "execution_count": null,
   "metadata": {},
   "outputs": [],
   "source": []
  },
  {
   "cell_type": "code",
   "execution_count": null,
   "metadata": {},
   "outputs": [],
   "source": []
  },
  {
   "cell_type": "code",
   "execution_count": null,
   "metadata": {},
   "outputs": [],
   "source": []
  },
  {
   "cell_type": "code",
   "execution_count": null,
   "metadata": {},
   "outputs": [],
   "source": [
    "# Step by step detection\n",
    "gaussianBlurKernel = (3, 3)  # Tamaño kernel suavizado gaussiano\n",
    "gaussianBlurSigma = 0\n",
    "at_blockSize = 41           # Tamaño vecindad umbral adaptativo\n",
    "at_C = 11                    # Constante a sustraer en el umbral adaptativo\n",
    "median_k = 3                # Tamaño kernel filtro mediana\n",
    "bw_size = 104                # Umbral Eliminar objetos pequeños\n",
    "params = DetectionParams(gaussianBlurKernel, gaussianBlurSigma,\n",
    "                         cv.ADAPTIVE_THRESH_GAUSSIAN_C, at_blockSize, at_C, median_k, bw_size, vacant_threshold=0.25, show_imshow=False)  # UFPR04\n",
    "\n",
    "confusion_matrix = detect_batch(selected_files, params)"
   ]
  },
  {
   "cell_type": "markdown",
   "metadata": {},
   "source": [
    "## UPR05"
   ]
  },
  {
   "cell_type": "code",
   "execution_count": null,
   "metadata": {},
   "outputs": [],
   "source": [
    "from ipynb.fs.full.ParkingSpaceDetector import *\n",
    "import random\n",
    "import glob\n",
    "\n",
    "# params = DetectionParams((5,5), 0, cv.ADAPTIVE_THRESH_GAUSSIAN_C, 33, 7, 3, 85) # UPR05\n",
    "path = 'E:\\\\Documents\\\\PKLot\\\\PKLot\\\\PKLot\\\\PKLot\\\\UFPR05'\n",
    "files = glob.glob(path+ '/**/*.jpg', recursive=True)            # Get all images in path\n",
    "selected_files = random.choices(files, k=int(len(files)/10))    # Select n random images from dataset"
   ]
  },
  {
   "cell_type": "code",
   "execution_count": null,
   "metadata": {},
   "outputs": [],
   "source": []
  },
  {
   "cell_type": "code",
   "execution_count": null,
   "metadata": {},
   "outputs": [],
   "source": [
    "import numpy as np\n",
    "parking_id = 'UFPR04'\n",
    "provider_params = ParkingProviderLocalParams(\n",
    "    parking_id=parking_id, path='E:\\\\Documents\\\\PKLot\\\\PKLot\\\\PKLot\\\\PKLot\\\\'+parking_id, k=4, random_seed=random_seed)\n",
    "\n",
    "provider = ParkingProviderLocal(provider_params)\n",
    "\n",
    "\n",
    "img = provider.fetch_image()[0]\n",
    "imgGray = cv.cvtColor(img, cv.COLOR_BGR2GRAY)\n",
    "\n",
    "# Create trackbars for adjusting threshold values\n",
    "cv.namedWindow(\"Trackbars\")\n",
    "cv.createTrackbar(\"1-Low Threshold\", \"Trackbars\", 0, 255, lambda x: None)\n",
    "cv.createTrackbar(\"1-High Threshold\", \"Trackbars\", 0, 1000, lambda x: None)\n",
    "cv.createTrackbar(\"d\", \"Trackbars\", 0, 255, lambda x: None)\n",
    "cv.createTrackbar(\"sigma color\", \"Trackbars\", 0, 1000, lambda x: None)\n",
    "cv.createTrackbar(\"sigma space\", \"Trackbars\", 0, 1000, lambda x: None)\n",
    "\n",
    "while True:\n",
    "\n",
    "    # Get the current values of the trackbars\n",
    "    lowThreshold = cv.getTrackbarPos(\"1-Low Threshold\", \"Trackbars\")\n",
    "    highThreshold = cv.getTrackbarPos(\"1-High Threshold\", \"Trackbars\")\n",
    "    d = cv.getTrackbarPos(\"d\", \"Trackbars\")\n",
    "    sc = cv.getTrackbarPos(\"sigma color\", \"Trackbars\")\n",
    "    ss = cv.getTrackbarPos(\"sigma space\", \"Trackbars\")\n",
    "\n",
    "    # Bilateral filter\n",
    "    imgBlur = cv.bilateralFilter(imgGray, d, sc, ss)\n",
    "\n",
    "    # Apply Canny edge detection\n",
    "    imgEdges = cv.Canny(imgBlur, lowThreshold, highThreshold)\n",
    "\n",
    "    # Show the resulting image\n",
    "    cv.imshow('Img', imgGray)\n",
    "    cv.imshow('Img Blur', imgBlur)\n",
    "    cv.imshow(\"Edges\", imgEdges)\n",
    "\n",
    "    # Wait for user input, and exit if the user presses the \"q\" key\n",
    "    key = cv.waitKey(1)\n",
    "    if key == ord(\"q\"):\n",
    "        # # Use Hough transform to detect lines in the edge map\n",
    "        # lines = cv.HoughLinesP(imgEdges, 1, np.pi/180, 100, minLineLength=100, maxLineGap=10)\n",
    "        # print(lines)\n",
    "        \n",
    "        provider.index += 1\n",
    "        img = provider.fetch_image()[0]\n",
    "        imgGray = cv.cvtColor(img, cv.COLOR_BGR2GRAY)\n",
    "        print('q')\n",
    "        \n",
    "        continue\n",
    "    elif key == 27:\n",
    "        cv.destroyAllWindows()\n",
    "        break\n",
    "    \n",
    "    elif key == ord('d'):\n",
    "        \n",
    "        OccupancyDetectorBorders\n",
    "\n"
   ]
  },
  {
   "cell_type": "code",
   "execution_count": 6,
   "metadata": {},
   "outputs": [
    {
     "ename": "error",
     "evalue": "OpenCV(4.5.4) D:\\a\\opencv-python\\opencv-python\\opencv\\modules\\highgui\\src\\window_w32.cpp:2581: error: (-27:Null pointer) NULL window: 'Trackbars' in function 'cvGetTrackbarPos'\n",
     "output_type": "error",
     "traceback": [
      "\u001b[1;31m---------------------------------------------------------------------------\u001b[0m",
      "\u001b[1;31merror\u001b[0m                                     Traceback (most recent call last)",
      "\u001b[1;32mC:\\Users\\VCTOR~1\\AppData\\Local\\Temp/ipykernel_1032/3985263567.py\u001b[0m in \u001b[0;36m<module>\u001b[1;34m\u001b[0m\n\u001b[0;32m     23\u001b[0m \u001b[1;33m\u001b[0m\u001b[0m\n\u001b[0;32m     24\u001b[0m     \u001b[1;31m# Get the current values of the trackbars\u001b[0m\u001b[1;33m\u001b[0m\u001b[1;33m\u001b[0m\u001b[1;33m\u001b[0m\u001b[0m\n\u001b[1;32m---> 25\u001b[1;33m     \u001b[0mthreshold\u001b[0m \u001b[1;33m=\u001b[0m \u001b[0mcv\u001b[0m\u001b[1;33m.\u001b[0m\u001b[0mgetTrackbarPos\u001b[0m\u001b[1;33m(\u001b[0m\u001b[1;34m\"Threshold\"\u001b[0m\u001b[1;33m,\u001b[0m \u001b[1;34m\"Trackbars\"\u001b[0m\u001b[1;33m)\u001b[0m\u001b[1;33m\u001b[0m\u001b[1;33m\u001b[0m\u001b[0m\n\u001b[0m\u001b[0;32m     26\u001b[0m \u001b[1;33m\u001b[0m\u001b[0m\n\u001b[0;32m     27\u001b[0m     \u001b[1;31m# do absdiff\u001b[0m\u001b[1;33m\u001b[0m\u001b[1;33m\u001b[0m\u001b[1;33m\u001b[0m\u001b[0m\n",
      "\u001b[1;31merror\u001b[0m: OpenCV(4.5.4) D:\\a\\opencv-python\\opencv-python\\opencv\\modules\\highgui\\src\\window_w32.cpp:2581: error: (-27:Null pointer) NULL window: 'Trackbars' in function 'cvGetTrackbarPos'\n"
     ]
    },
    {
     "ename": "",
     "evalue": "",
     "output_type": "error",
     "traceback": [
      "\u001b[1;31mThe Kernel crashed while executing code in the the current cell or a previous cell. Please review the code in the cell(s) to identify a possible cause of the failure. Click <a href='https://aka.ms/vscodeJupyterKernelCrash'>here</a> for more info. View Jupyter <a href='command:jupyter.viewOutput'>log</a> for further details."
     ]
    }
   ],
   "source": [
    "import numpy as np\n",
    "parking_id = 'UFPR04'\n",
    "provider_params = ParkingProviderLocalParams(\n",
    "    parking_id=parking_id, path='E:\\\\Documents\\\\PKLot\\\\PKLot\\\\PKLot\\\\PKLot\\\\'+parking_id, k=4, random_seed=random_seed)\n",
    "\n",
    "provider = ParkingProviderLocal(provider_params)\n",
    "\n",
    "\n",
    "img = provider.fetch_image()[0]\n",
    "imgGray = cv.cvtColor(img, cv.COLOR_BGR2GRAY)\n",
    "\n",
    "# Create trackbars for adjusting threshold values\n",
    "cv.namedWindow(\"Trackbars\")\n",
    "cv.createTrackbar(\"1-Low Threshold\", \"Trackbars\", 0, 255, lambda x: None)\n",
    "cv.createTrackbar(\"1-High Threshold\", \"Trackbars\", 0, 1000, lambda x: None)\n",
    "cv.createTrackbar(\"d\", \"Trackbars\", 0, 255, lambda x: None)\n",
    "cv.createTrackbar(\"sigma color\", \"Trackbars\", 0, 1000, lambda x: None)\n",
    "cv.createTrackbar(\"sigma space\", \"Trackbars\", 0, 1000, lambda x: None)\n",
    "\n",
    "while True:\n",
    "\n",
    "    # Get the current values of the trackbars\n",
    "    lowThreshold = cv.getTrackbarPos(\"1-Low Threshold\", \"Trackbars\")\n",
    "    highThreshold = cv.getTrackbarPos(\"1-High Threshold\", \"Trackbars\")\n",
    "    d = cv.getTrackbarPos(\"d\", \"Trackbars\")\n",
    "    sc = cv.getTrackbarPos(\"sigma color\", \"Trackbars\")\n",
    "    ss = cv.getTrackbarPos(\"sigma space\", \"Trackbars\")\n",
    "\n",
    "    # Bilateral filter\n",
    "    imgBlur = cv.bilateralFilter(imgGray, d, sc, ss)\n",
    "\n",
    "    # Apply Canny edge detection\n",
    "    imgEdges = cv.Canny(imgBlur, lowThreshold, highThreshold)\n",
    "\n",
    "    # Show the resulting image\n",
    "    cv.imshow('Img', imgGray)\n",
    "    cv.imshow('Img Blur', imgBlur)\n",
    "    cv.imshow(\"Edges\", imgEdges)\n",
    "\n",
    "    # Wait for user input, and exit if the user presses the \"q\" key\n",
    "    key = cv.waitKey(1)\n",
    "    if key == ord(\"q\"):\n",
    "        # # Use Hough transform to detect lines in the edge map\n",
    "        # lines = cv.HoughLinesP(imgEdges, 1, np.pi/180, 100, minLineLength=100, maxLineGap=10)\n",
    "        # print(lines)\n",
    "        \n",
    "        provider.index += 1\n",
    "        img = provider.fetch_image()[0]\n",
    "        imgGray = cv.cvtColor(img, cv.COLOR_BGR2GRAY)\n",
    "        print('q')\n",
    "        \n",
    "        continue\n",
    "    elif key == 27:\n",
    "        cv.destroyAllWindows()\n",
    "        break\n",
    "    \n",
    "    elif key == ord('d'):\n",
    "        \n",
    "        OccupancyDetectorBorders\n",
    "\n"
   ]
  }
 ],
 "metadata": {
  "kernelspec": {
   "display_name": "Python 3.9.2 ('VisionParkDetectEnv': venv)",
   "language": "python",
   "name": "python3"
  },
  "language_info": {
   "codemirror_mode": {
    "name": "ipython",
    "version": 3
   },
   "file_extension": ".py",
   "mimetype": "text/x-python",
   "name": "python",
   "nbconvert_exporter": "python",
   "pygments_lexer": "ipython3",
   "version": "3.9.2 (tags/v3.9.2:1a79785, Feb 19 2021, 13:44:55) [MSC v.1928 64 bit (AMD64)]"
  },
  "orig_nbformat": 4,
  "vscode": {
   "interpreter": {
    "hash": "751c3e3c5f8bc6a4e4e068bb230f26d845892c4443aea059e9acc5405f3faaee"
   }
  }
 },
 "nbformat": 4,
 "nbformat_minor": 2
}
