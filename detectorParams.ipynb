{
 "cells": [
  {
   "attachments": {},
   "cell_type": "markdown",
   "metadata": {},
   "source": [
    "# Find suitable detector params for each parking"
   ]
  },
  {
   "cell_type": "code",
   "execution_count": 1,
   "metadata": {},
   "outputs": [],
   "source": [
    "import random\n",
    "import numpy\n",
    "from datetime import datetime\n",
    "from src.data.ParkingProvider import NoSpacesException, NoImageException\n",
    "from src.metrics.PerformanceMetricsProviderSklearn import PerformanceMetricsProviderSklearn\n",
    "from src.metrics.entity.PerformanceMetrics import PerformanceMetrics\n",
    "from src.detector.entity.DetectionParams import DetectionParams\n",
    "from src.data.ParkingProviderLocal import ParkingProviderLocalParams,ParkingProviderLocal\n",
    "from src.app.ParkingOccupancyProcessorLocal import ParkingOccupancyProcessorLocal\n",
    "from src.detector.OccupancyDetectorBorders import OccupancyDetectorBorders\n",
    "import cv2 as cv\n",
    "\n",
    "metrics_list = list()\n",
    "row_names = list()\n",
    "random_seed = datetime.now().timestamp\n",
    "\n",
    "def test_parking(parking_id, detection_params:DetectionParams, row_name, process_batch=False):\n",
    "    metrics_provider: PerformanceMetricsProviderSklearn = PerformanceMetricsProviderSklearn()\n",
    "\n",
    "    provider_params = ParkingProviderLocalParams(\n",
    "    parking_id=parking_id, path='E:\\\\Documents\\\\PKLot\\\\PKLot\\\\PKLot\\\\PKLot\\\\'+parking_id, k=4, random_seed=random_seed)\n",
    "    \n",
    "    processor = ParkingOccupancyProcessorLocal(\n",
    "        parking_provider_params=provider_params, detection_params=detection_params, performance_metrics_provider=metrics_provider)\n",
    "\n",
    "    if process_batch:\n",
    "        try:\n",
    "            detection_params.show_imshow=False\n",
    "            processor.process_batch()\n",
    "        except (NoSpacesException, NoImageException) as ex:\n",
    "            print(f\"Finished processing samples: \", ex)\n",
    "\n",
    "    else:\n",
    "        while True:\n",
    "            try:\n",
    "                processor.process()\n",
    "            except (NoSpacesException, NoImageException) as ex:\n",
    "                print(f\"Finished processing samples: \", ex)\n",
    "                break\n",
    "        \n",
    "    metrics_provider.calculate_metrics()\n",
    "    metrics_provider.show_confusion_matrix()\n",
    "\n",
    "    metrics_list.append(metrics_provider.metrics)\n",
    "    row_names.append(row_name)\n",
    "    \n",
    "def setup_params(parking_id, initial_params:DetectionParams=None):\n",
    "    provider_params = ParkingProviderLocalParams(\n",
    "        parking_id=parking_id, path='E:\\\\Documents\\\\PKLot\\\\PKLot\\\\PKLot\\\\PKLot\\\\'+parking_id, k=200)\n",
    "\n",
    "    parking_provider = ParkingProviderLocal(provider_params)\n",
    "\n",
    "    # metrics: PerformanceMetricsProviderSklearn = PerformanceMetricsProviderSklearn()\n",
    "\n",
    "    # processor = ParkingOccupancyProcessorLocal(\n",
    "    #     parking_provider_params=provider_params, detection_params=PARAMS_UFPR04, performance_metrics_provider=metrics)\n",
    "\n",
    "    try:\n",
    "        params = initial_params\n",
    "        while True:\n",
    "        # while (it > 0 and i < it) or it < 0:\n",
    "        #     i = i+1\n",
    "        #     print(f\"Processing sample: {str(i)}\")\n",
    "        #     processor.process()\n",
    "\n",
    "            parking = parking_provider.get_parking()\n",
    "            img = parking.image\n",
    "            spaces = parking.spaces\n",
    "\n",
    "            params = OccupancyDetectorBorders.setup_params_img(img, spaces, params)\n",
    "\n",
    "            \n",
    "            cv.namedWindow(\"Press ESC to exit, other key to continue\")\n",
    "            key = cv.waitKey(0)\n",
    "            if key == 27:\n",
    "                cv.destroyAllWindows()\n",
    "                break  \n",
    "              \n",
    "            cv.destroyAllWindows()\n",
    "   \n",
    "    except (NoSpacesException, NoImageException) as ex:\n",
    "        print(f\"Finished processing: \", ex)\n",
    "    finally:\n",
    "        return params\n",
    "    "
   ]
  },
  {
   "attachments": {},
   "cell_type": "markdown",
   "metadata": {},
   "source": [
    "## UFPR04"
   ]
  },
  {
   "cell_type": "code",
   "execution_count": 2,
   "metadata": {},
   "outputs": [
    {
     "name": "stderr",
     "output_type": "stream",
     "text": [
      "  7%|▋         | 5/75 [00:03<00:42,  1.66it/s]\n"
     ]
    }
   ],
   "source": [
    "p = setup_params('UFPR04')\n",
    "p.show_imshow=True\n",
    "print(p)\n",
    "\n",
    "# PARAMS_UFPR04 = DetectionParams((5, 5), 0, cv.ADAPTIVE_THRESH_GAUSSIAN_C, at_blockSize=31, at_C=10, median_k=3, bw_size=50, vacant_threshold=0.3, show_imshow=True)  # UFPR04\n",
    "test_parking('UFPR04', p, 'UFPR04 selected params',True)"
   ]
  },
  {
   "attachments": {},
   "cell_type": "markdown",
   "metadata": {},
   "source": [
    "## UFPR05"
   ]
  },
  {
   "cell_type": "code",
   "execution_count": 3,
   "metadata": {},
   "outputs": [
    {
     "name": "stdout",
     "output_type": "stream",
     "text": [
      "Selected 1038 files\n",
      "Processing 1038 files with 16 cores\n"
     ]
    },
    {
     "name": "stderr",
     "output_type": "stream",
     "text": [
      "100%|██████████| 1038/1038 [01:07<00:00, 15.41it/s]\n"
     ]
    },
    {
     "name": "stdout",
     "output_type": "stream",
     "text": [
      "Precision: 0.856\n",
      "specificity: 0.897\n",
      "Recall: 0.869\n",
      "F1 Score: 0.863\n",
      "Accuracy: 0.886\n"
     ]
    },
    {
     "data": {
      "image/png": "[encoded data removed]",
      "text/plain": [
       "<Figure size 432x288 with 2 Axes>"
      ]
     },
     "metadata": {
      "needs_background": "light"
     },
     "output_type": "display_data"
    }
   ],
   "source": [
    "PARAMS_UFPR05 = DetectionParams(gb_k=(5, 5), gb_s=0, at_method=cv.ADAPTIVE_THRESH_GAUSSIAN_C, at_blockSize=33, at_C=9, median_k=3, bw_size=20, vacant_threshold=0.26, show_imshow=False)\n",
    "# p = setup_params('UFPR05', PARAMS_UFPR05)\n",
    "# p.show_imshow=True\n",
    "# print(p)\n",
    "\n",
    "test_parking('UFPR05', PARAMS_UFPR05, 'UFPR05 selected params', process_batch=True)\n"
   ]
  },
  {
   "cell_type": "code",
   "execution_count": 4,
   "metadata": {},
   "outputs": [
    {
     "name": "stdout",
     "output_type": "stream",
     "text": [
      "Selected 1038 files\n",
      "Processing 1038 files with 16 cores\n"
     ]
    },
    {
     "name": "stderr",
     "output_type": "stream",
     "text": [
      "100%|██████████| 1038/1038 [02:01<00:00,  8.54it/s]"
     ]
    },
    {
     "name": "stdout",
     "output_type": "stream",
     "text": [
      "Precision: 0.855\n",
      "specificity: 0.901\n",
      "Recall: 0.828\n",
      "F1 Score: 0.841\n",
      "Accuracy: 0.871\n"
     ]
    },
    {
     "name": "stderr",
     "output_type": "stream",
     "text": [
      "\n"
     ]
    },
    {
     "data": {
      "image/png": "[encoded data removed]",
      "text/plain": [
       "<Figure size 432x288 with 2 Axes>"
      ]
     },
     "metadata": {
      "needs_background": "light"
     },
     "output_type": "display_data"
    }
   ],
   "source": [
    "# p = setup_params('UFPR05', PARAMS_UFPR05)\n",
    "# p.show_imshow=True\n",
    "# print(p)\n",
    "\n",
    "PARAMS_UFPR05 = DetectionParams(gb_k=(5, 5), gb_s=0, at_method=cv.ADAPTIVE_THRESH_GAUSSIAN_C, at_blockSize=33, at_C=7, median_k=3, bw_size=85, vacant_threshold=0.3, show_imshow=True)\n",
    "test_parking('UFPR05', PARAMS_UFPR05, 'UFPR05 params 2', process_batch=True)"
   ]
  },
  {
   "cell_type": "code",
   "execution_count": 5,
   "metadata": {},
   "outputs": [
    {
     "name": "stdout",
     "output_type": "stream",
     "text": [
      "Selected 1038 files\n",
      "Processing 1038 files with 16 cores\n"
     ]
    },
    {
     "name": "stderr",
     "output_type": "stream",
     "text": [
      "100%|██████████| 1038/1038 [01:51<00:00,  9.33it/s]\n"
     ]
    },
    {
     "name": "stdout",
     "output_type": "stream",
     "text": [
      "Precision: 0.797\n",
      "specificity: 0.836\n",
      "Recall: 0.915\n",
      "F1 Score: 0.852\n",
      "Accuracy: 0.868\n"
     ]
    },
    {
     "data": {
      "image/png": "[encoded data removed]",
      "text/plain": [
       "<Figure size 432x288 with 2 Axes>"
      ]
     },
     "metadata": {
      "needs_background": "light"
     },
     "output_type": "display_data"
    }
   ],
   "source": [
    "PARAMS_UFPR05 = DetectionParams(gb_k=(5, 5), gb_s=0, at_method=cv.ADAPTIVE_THRESH_GAUSSIAN_C, at_blockSize=33, at_C=9, median_k=3, bw_size=300, vacant_threshold=0.22, show_imshow=True)\n",
    "# p = setup_params('UFPR05', PARAMS_UFPR05)\n",
    "# p.show_imshow=True\n",
    "# print(p)\n",
    "\n",
    "test_parking('UFPR05', PARAMS_UFPR05, 'UFPR05 params 3', process_batch=True)"
   ]
  },
  {
   "cell_type": "code",
   "execution_count": 6,
   "metadata": {},
   "outputs": [
    {
     "name": "stdout",
     "output_type": "stream",
     "text": [
      "                        precision  specificity  recall     f1  accuracy\n",
      "UFPR05 selected params      0.856        0.897   0.869  0.863     0.886\n",
      "UFPR05 params 2             0.855        0.901   0.828  0.841     0.871\n",
      "UFPR05 params 3             0.797        0.836   0.915  0.852     0.868\n"
     ]
    }
   ],
   "source": [
    "PerformanceMetricsProviderSklearn.show_dataframe(metrics_list, row_names)\n"
   ]
  },
  {
   "cell_type": "markdown",
   "metadata": {},
   "source": []
  },
  {
   "attachments": {},
   "cell_type": "markdown",
   "metadata": {},
   "source": [
    "## PUCPR"
   ]
  },
  {
   "cell_type": "code",
   "execution_count": null,
   "metadata": {},
   "outputs": [],
   "source": []
  },
  {
   "cell_type": "code",
   "execution_count": null,
   "metadata": {},
   "outputs": [],
   "source": [
    "# from ipynb.fs.full.functions import *\n",
    "%run \"ParkingSpaceDetector.py\"\n",
    "import random\n",
    "import glob\n",
    "\n",
    "path = 'E:/Documents/PKLot/PKLot/PKLot/PKLot/UFPR04'\n",
    "# Get all images in path\n",
    "files = glob.glob(path + '/**/*.jpg', recursive=True)\n",
    "# Select n random images from dataset\n",
    "selected_files = random.choices(files, k=int(len(files)/10))\n",
    "\n",
    "# params = DetectionParams((5,5), 0, cv.ADAPTIVE_THRESH_GAUSSIAN_C, 27, 7, 3, 85) # PUCPR\n",
    "# params = DetectionParams((5,5), 0, cv.ADAPTIVE_THRESH_GAUSSIAN_C, 33, 7, 3, 85) # UPR05\n",
    "\n"
   ]
  },
  {
   "cell_type": "code",
   "execution_count": null,
   "metadata": {},
   "outputs": [],
   "source": [
    "# Setup detection params\n",
    "img = cv.imread(selected_files[0]) \n",
    "setup_preprocess(img)\n"
   ]
  },
  {
   "cell_type": "code",
   "execution_count": null,
   "metadata": {},
   "outputs": [],
   "source": [
    "# Step by step detection\n",
    "gaussianBlurKernel = (3, 3)  # Tamaño kernel suavizado gaussiano\n",
    "gaussianBlurSigma = 0\n",
    "at_blockSize = 41           # Tamaño vecindad umbral adaptativo\n",
    "at_C = 11                    # Constante a sustraer en el umbral adaptativo\n",
    "median_k = 3                # Tamaño kernel filtro mediana\n",
    "bw_size = 104                # Umbral Eliminar objetos pequeños\n",
    "params = DetectionParams(gaussianBlurKernel, gaussianBlurSigma,\n",
    "                         cv.ADAPTIVE_THRESH_GAUSSIAN_C, at_blockSize, at_C, median_k, bw_size, vacant_threshold=0.25, show_imshow=False)  # UFPR04\n",
    "\n",
    "confusion_matrix = detect_batch(selected_files, params)"
   ]
  },
  {
   "cell_type": "code",
   "execution_count": null,
   "metadata": {},
   "outputs": [],
   "source": [
    "# Step by step detection\n",
    "gaussianBlurKernel = (3, 3)  # Tamaño kernel suavizado gaussiano\n",
    "gaussianBlurSigma = 0\n",
    "at_blockSize = 41           # Tamaño vecindad umbral adaptativo\n",
    "at_C = 11                    # Constante a sustraer en el umbral adaptativo\n",
    "median_k = 3                # Tamaño kernel filtro mediana\n",
    "bw_size = 104                # Umbral Eliminar objetos pequeños\n",
    "params = DetectionParams(gaussianBlurKernel, gaussianBlurSigma,\n",
    "                         cv.ADAPTIVE_THRESH_GAUSSIAN_C, at_blockSize, at_C, median_k, bw_size, vacant_threshold=0.25, show_imshow=False)  # UFPR04\n",
    "confusion_matrix, real, predicted = process_batch(selected_files, params)\n",
    "precision, specificity, recall, f1, accuracy = show_confusion_matrix(confusion_matrix, real, predicted)"
   ]
  },
  {
   "cell_type": "code",
   "execution_count": null,
   "metadata": {},
   "outputs": [],
   "source": [
    "# W/o median filter\n",
    "gaussianBlurKernel = (3, 3)  # Tamaño kernel suavizado gaussiano\n",
    "gaussianBlurSigma = 0\n",
    "at_blockSize = 31           # Tamaño vecindad umbral adaptativo\n",
    "at_C = 13                    # Constante a sustraer en el umbral adaptativo\n",
    "median_k = -1                # Tamaño kernel filtro mediana\n",
    "bw_size = 30                # Umbral Eliminar objetos pequeños\n",
    "vacant_threshold = 0.25     # Umbral área del hueco para ser considerado ocupado\n",
    "params = DetectionParams(gaussianBlurKernel, gaussianBlurSigma,\n",
    "                         cv.ADAPTIVE_THRESH_GAUSSIAN_C, at_blockSize, at_C, median_k, bw_size, vacant_threshold, show_imshow=True)  # UFPR04\n",
    "\n",
    "confusion_matrix, real, predicted = process_batch(selected_files, params)\n",
    "precision, specificity, recall, f1, accuracy = show_confusion_matrix(confusion_matrix, real, predicted)"
   ]
  },
  {
   "cell_type": "code",
   "execution_count": null,
   "metadata": {},
   "outputs": [],
   "source": [
    "# W median filter\n",
    "# Gaussian blur filter kernel = 3x3\n",
    "# at_blockSize 31\n",
    "gaussianBlurKernel = (3, 3)  # Tamaño kernel suavizado gaussiano\n",
    "gaussianBlurSigma = 0\n",
    "at_blockSize = 31           # Tamaño vecindad umbral adaptativo\n",
    "at_C = 13                    # Constante a sustraer en el umbral adaptativo\n",
    "median_k = 3                # Tamaño kernel filtro mediana\n",
    "bw_size = 30                # Umbral Eliminar objetos pequeños\n",
    "vacant_threshold = 0.25     # Umbral área del hueco para ser considerado ocupado\n",
    "params = DetectionParams(gaussianBlurKernel, gaussianBlurSigma,\n",
    "                         cv.ADAPTIVE_THRESH_GAUSSIAN_C, at_blockSize, at_C, median_k, bw_size, vacant_threshold, show_imshow=False)  # UFPR04\n",
    "\n",
    "confusion_matrix, real, predicted = process_batch(selected_files, params)\n",
    "precision, specificity, recall, f1, accuracy = show_confusion_matrix(confusion_matrix, real, predicted)"
   ]
  },
  {
   "cell_type": "code",
   "execution_count": null,
   "metadata": {},
   "outputs": [],
   "source": [
    "# W median filter\n",
    "# Gaussian blur filter kernel = 5x5\n",
    "# at_blockSize 29\n",
    "gaussianBlurKernel = (5, 5)  # Tamaño kernel suavizado gaussiano\n",
    "gaussianBlurSigma = 0\n",
    "at_blockSize = 29           # Tamaño vecindad umbral adaptativo\n",
    "at_C = 8                    # Constante a sustraer en el umbral adaptativo\n",
    "median_k = 3                # Tamaño kernel filtro mediana\n",
    "bw_size = 23                # Umbral Eliminar objetos pequeños\n",
    "vacant_threshold = 0.25     # Umbral área del hueco para ser considerado ocupado\n",
    "params = DetectionParams(gaussianBlurKernel, gaussianBlurSigma,\n",
    "                         cv.ADAPTIVE_THRESH_GAUSSIAN_C, at_blockSize, at_C, median_k, bw_size, vacant_threshold)  # UFPR04\n",
    "\n",
    "confusion_matrix, real, predicted = process_batch(selected_files, params)\n",
    "show_confusion_matrix(confusion_matrix, real, predicted)"
   ]
  },
  {
   "cell_type": "code",
   "execution_count": null,
   "metadata": {},
   "outputs": [],
   "source": [
    "gaussianBlurKernel = (5, 5)  # Tamaño kernel suavizado gaussiano\n",
    "gaussianBlurSigma = 0\n",
    "at_blockSize = 29           # Tamaño vecindad umbral adaptativo\n",
    "at_C = 8                    # Constante a sustraer en el umbral adaptativo\n",
    "median_k = 3                # Tamaño kernel filtro mediana\n",
    "bw_size = 23                # Umbral Eliminar objetos pequeños\n",
    "vacant_threshold = 0.25     # Umbral área del hueco para ser considerado ocupado\n",
    "params = DetectionParams(gaussianBlurKernel, gaussianBlurSigma,\n",
    "                         cv.ADAPTIVE_THRESH_GAUSSIAN_C, at_blockSize, at_C, median_k, bw_size, vacant_threshold)  # UFPR04\n",
    "\n",
    "confusion_matrix, real, predicted = process_batch(selected_files, params)\n",
    "show_confusion_matrix(confusion_matrix, real, predicted)"
   ]
  },
  {
   "cell_type": "code",
   "execution_count": null,
   "metadata": {},
   "outputs": [],
   "source": [
    "gaussianBlurKernel = (5,5)  # Tamaño kernel suavizado gaussiano\n",
    "gaussianBlurSigma = 0\n",
    "at_blockSize = 29           # Tamaño vecindad umbral adaptativo\n",
    "at_C = 10                    # Constante a sustraer en el umbral adaptativo\n",
    "median_k = 3                # Tamaño kernel filtro mediana\n",
    "bw_size = 25                # Umbral Eliminar objetos pequeños \n",
    "vacant_threshold = 0.25     # Umbral área del hueco para ser considerado ocupado\n",
    "\n",
    "params = DetectionParams(gaussianBlurKernel, gaussianBlurSigma, cv.ADAPTIVE_THRESH_GAUSSIAN_C, at_blockSize, at_C, median_k, bw_size, vacant_threshold) # UFPR04\n",
    "\n",
    "confusion_matrix, real, predicted = process_batch(selected_files, params)\n",
    "show_confusion_matrix(confusion_matrix, real, predicted)"
   ]
  },
  {
   "cell_type": "markdown",
   "metadata": {},
   "source": [
    "## PUCPR"
   ]
  },
  {
   "cell_type": "code",
   "execution_count": null,
   "metadata": {},
   "outputs": [],
   "source": [
    "from ipynb.fs.full.ParkingSpaceDetector import *\n",
    "import random\n",
    "import glob\n",
    "\n",
    "path = 'E:/\\Documents\\\\PKLot\\\\PKLot\\\\PKLot\\\\PKLot\\\\PUCPR'\n",
    "files = glob.glob(path+ '/**/*.jpg', recursive=True)            # Get all images in path\n",
    "selected_files = random.choices(files, k=int(len(files)/10))    # Select n random images from dataset"
   ]
  },
  {
   "cell_type": "code",
   "execution_count": null,
   "metadata": {},
   "outputs": [],
   "source": [
    "params = DetectionParams((5,5), 0, cv.ADAPTIVE_THRESH_GAUSSIAN_C, 27, 7, 3, 85) # PUCPR\n",
    "confusion_matrix, real, predicted = process_batch(selected_files, params,  vacant_threshold=0.26)\n",
    "show_confusion_matrix(confusion_matrix, real, predicted)"
   ]
  },
  {
   "cell_type": "markdown",
   "metadata": {},
   "source": [
    "## UPR05"
   ]
  },
  {
   "cell_type": "code",
   "execution_count": null,
   "metadata": {},
   "outputs": [],
   "source": [
    "from ipynb.fs.full.ParkingSpaceDetector import *\n",
    "import random\n",
    "import glob\n",
    "\n",
    "# params = DetectionParams((5,5), 0, cv.ADAPTIVE_THRESH_GAUSSIAN_C, 33, 7, 3, 85) # UPR05\n",
    "path = 'E:\\\\Documents\\\\PKLot\\\\PKLot\\\\PKLot\\\\PKLot\\\\UFPR05'\n",
    "files = glob.glob(path+ '/**/*.jpg', recursive=True)            # Get all images in path\n",
    "selected_files = random.choices(files, k=int(len(files)/10))    # Select n random images from dataset"
   ]
  },
  {
   "cell_type": "code",
   "execution_count": null,
   "metadata": {},
   "outputs": [],
   "source": [
    "params = DetectionParams((5,5), 0, cv.ADAPTIVE_THRESH_GAUSSIAN_C, 33, 9, 3, 305) # UPR05\n",
    "confusion_matrix, real, predicted = process_batch(selected_files, params,  vacant_threshold=0.22)\n",
    "show_confusion_matrix(confusion_matrix, real, predicted)"
   ]
  }
 ],
 "metadata": {
  "kernelspec": {
   "display_name": "Python 3.9.2 ('VisionParkDetectEnv': venv)",
   "language": "python",
   "name": "python3"
  },
  "language_info": {
   "codemirror_mode": {
    "name": "ipython",
    "version": 3
   },
   "file_extension": ".py",
   "mimetype": "text/x-python",
   "name": "python",
   "nbconvert_exporter": "python",
   "pygments_lexer": "ipython3",
   "version": "3.9.2"
  },
  "orig_nbformat": 4,
  "vscode": {
   "interpreter": {
    "hash": "751c3e3c5f8bc6a4e4e068bb230f26d845892c4443aea059e9acc5405f3faaee"
   }
  }
 },
 "nbformat": 4,
 "nbformat_minor": 2
}
