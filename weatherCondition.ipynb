{
    "cells": [
        {
            "cell_type": "markdown",
            "metadata": {},
            "source": [
                "# Weather condition test"
            ]
        },
        {
            "cell_type": "code",
            "execution_count": 32,
            "metadata": {},
            "outputs": [],
            "source": [
                "from ParkingSpaceDetector import *\n",
                "import random\n",
                "import glob\n",
                "import pandas as pd\n",
                "\n",
                "\n",
                "#Define global params for each parking\n",
                "PARAMS_UFPR04 = DetectionParams((5, 5), 0, cv.ADAPTIVE_THRESH_GAUSSIAN_C, 29, 8, 3, 23, vacant_threshold=0.26)  # UFPR04\n",
                "PARAMS_UFPR05 =  DetectionParams((5,5), 0, cv.ADAPTIVE_THRESH_GAUSSIAN_C, 33, 9, 3, 20,vacant_threshold=0.24) # UPR05\n",
                "PARAMS_PUCPR = DetectionParams((5,5), 0, cv.ADAPTIVE_THRESH_GAUSSIAN_C, 27, 7, 3, 85, vacant_threshold=0.26) # PUCPR\n",
                "\n",
                "def weather_condition_test(parking_name, params:DetectionParams, weather_condition):\n",
                "    path = 'E:\\\\Documents\\\\PKLot\\\\PKLot\\\\PKLot\\\\PKLot\\\\'+parking_name+'\\\\'+weather_condition\n",
                "    files = glob.glob(path + '/**/*.jpg', recursive=True)\n",
                "    selected_files = random.choices(files, k=int(len(files)/4))\n",
                "    return process_batch(selected_files, params)\n",
                "\n",
                "# Data columns\n",
                "parking_total = list()\n",
                "weather_condition_total = list()\n",
                "precision_total = list()  # Preicisón: Tasa de TP, lo bien que predice hueco libre sin obtener falsos positivos\n",
                "specificity_total = list() # Especificdad: Tasa de TN, \n",
                "recall_total = list()     # Sensibilidad: la proporción de huecos libres que detectan y no se le escapan\n",
                "f1_total = list()\n",
                "accuracy_total = list()"
            ]
        },
        {
            "cell_type": "markdown",
            "metadata": {},
            "source": [
                "## UFPR04"
            ]
        },
        {
            "cell_type": "markdown",
            "metadata": {},
            "source": [
                "### Sunny"
            ]
        },
        {
            "cell_type": "code",
            "execution_count": 33,
            "metadata": {},
            "outputs": [
                {
                    "name": "stdout",
                    "output_type": "stream",
                    "text": [
                        "Processing 524 files with 12 cores\n"
                    ]
                },
                {
                    "name": "stderr",
                    "output_type": "stream",
                    "text": [
                        "100%|██████████| 524/524 [02:03<00:00,  4.23it/s]\n"
                    ]
                },
                {
                    "name": "stdout",
                    "output_type": "stream",
                    "text": [
                        "Precision: 0.880\n",
                        "specificity: 0.917\n",
                        "Recall: 0.866\n",
                        "F1 Score: 0.873\n",
                        "Accuracy: 0.896\n"
                    ]
                },
                {
                    "data": {
                        "image/png": "[encoded data removed]",
                        "text/plain": [
                            "<Figure size 432x288 with 2 Axes>"
                        ]
                    },
                    "metadata": {
                        "needs_background": "light"
                    },
                    "output_type": "display_data"
                }
            ],
            "source": [
                "parking = \"UFPR04\"\n",
                "confusion_matrix, real, predicted = weather_condition_test(parking, PARAMS_UFPR04, \"Sunny\")\n",
                "precision, specificity, recall, f1, accuracy = show_confusion_matrix(confusion_matrix, real, predicted)\n",
                "\n",
                "precision_total.append(precision)\n",
                "specificity_total.append(specificity)\n",
                "recall_total.append(recall)\n",
                "f1_total.append(f1)\n",
                "accuracy_total.append(accuracy)"
            ]
        },
        {
            "cell_type": "markdown",
            "metadata": {},
            "source": [
                "### Cloudy"
            ]
        },
        {
            "cell_type": "code",
            "execution_count": 34,
            "metadata": {},
            "outputs": [
                {
                    "name": "stdout",
                    "output_type": "stream",
                    "text": [
                        "Processing 352 files with 12 cores\n"
                    ]
                },
                {
                    "name": "stderr",
                    "output_type": "stream",
                    "text": [
                        "100%|██████████| 352/352 [01:31<00:00,  3.85it/s]"
                    ]
                },
                {
                    "name": "stdout",
                    "output_type": "stream",
                    "text": [
                        "Precision: 0.943\n",
                        "specificity: 0.901\n",
                        "Recall: 0.836\n",
                        "F1 Score: 0.886\n",
                        "Accuracy: 0.858\n"
                    ]
                },
                {
                    "name": "stderr",
                    "output_type": "stream",
                    "text": [
                        "\n"
                    ]
                },
                {
                    "data": {
                        "image/png": "[encoded data removed]",
                        "text/plain": [
                            "<Figure size 432x288 with 2 Axes>"
                        ]
                    },
                    "metadata": {
                        "needs_background": "light"
                    },
                    "output_type": "display_data"
                }
            ],
            "source": [
                "parking = \"UFPR04\"\n",
                "confusion_matrix, real, predicted = weather_condition_test(parking, PARAMS_UFPR04, \"Cloudy\")\n",
                "precision, specificity, recall, f1, accuracy = show_confusion_matrix(confusion_matrix, real, predicted)\n",
                "\n",
                "precision_total.append(precision)\n",
                "specificity_total.append(specificity)\n",
                "recall_total.append(recall)\n",
                "f1_total.append(f1)\n",
                "accuracy_total.append(accuracy)"
            ]
        },
        {
            "cell_type": "markdown",
            "metadata": {},
            "source": [
                "### Rainy"
            ]
        },
        {
            "cell_type": "code",
            "execution_count": 35,
            "metadata": {},
            "outputs": [
                {
                    "name": "stdout",
                    "output_type": "stream",
                    "text": [
                        "Processing 71 files with 12 cores\n"
                    ]
                },
                {
                    "name": "stderr",
                    "output_type": "stream",
                    "text": [
                        "100%|██████████| 71/71 [00:18<00:00,  3.86it/s]"
                    ]
                },
                {
                    "name": "stdout",
                    "output_type": "stream",
                    "text": [
                        "Precision: 0.924\n",
                        "specificity: 0.880\n",
                        "Recall: 0.836\n",
                        "F1 Score: 0.878\n",
                        "Accuracy: 0.852\n"
                    ]
                },
                {
                    "name": "stderr",
                    "output_type": "stream",
                    "text": [
                        "\n"
                    ]
                },
                {
                    "data": {
                        "image/png": "[encoded data removed]",
                        "text/plain": [
                            "<Figure size 432x288 with 2 Axes>"
                        ]
                    },
                    "metadata": {
                        "needs_background": "light"
                    },
                    "output_type": "display_data"
                }
            ],
            "source": [
                "parking = \"UFPR04\"\n",
                "confusion_matrix, real, predicted = weather_condition_test(parking, PARAMS_UFPR04, \"Rainy\")\n",
                "precision, specificity, recall, f1, accuracy = show_confusion_matrix(confusion_matrix, real, predicted)\n",
                "\n",
                "precision_total.append(precision)\n",
                "specificity_total.append(specificity)\n",
                "recall_total.append(recall)\n",
                "f1_total.append(f1)\n",
                "accuracy_total.append(accuracy)"
            ]
        },
        {
            "cell_type": "markdown",
            "metadata": {},
            "source": [
                "## UFPR05"
            ]
        },
        {
            "cell_type": "markdown",
            "metadata": {},
            "source": [
                "### Sunny"
            ]
        },
        {
            "cell_type": "code",
            "execution_count": 36,
            "metadata": {},
            "outputs": [
                {
                    "name": "stdout",
                    "output_type": "stream",
                    "text": [
                        "Processing 625 files with 12 cores\n"
                    ]
                },
                {
                    "name": "stderr",
                    "output_type": "stream",
                    "text": [
                        "100%|██████████| 625/625 [01:53<00:00,  5.52it/s]\n"
                    ]
                },
                {
                    "name": "stdout",
                    "output_type": "stream",
                    "text": [
                        "Precision: 0.821\n",
                        "specificity: 0.853\n",
                        "Recall: 0.896\n",
                        "F1 Score: 0.857\n",
                        "Accuracy: 0.872\n"
                    ]
                },
                {
                    "data": {
                        "image/png": "[encoded data removed]",
                        "text/plain": [
                            "<Figure size 432x288 with 2 Axes>"
                        ]
                    },
                    "metadata": {
                        "needs_background": "light"
                    },
                    "output_type": "display_data"
                }
            ],
            "source": [
                "parking = \"UFPR05\"\n",
                "confusion_matrix, real, predicted = weather_condition_test(parking, PARAMS_UFPR04, \"Sunny\")\n",
                "precision, specificity, recall, f1, accuracy = show_confusion_matrix(confusion_matrix, real, predicted)\n",
                "\n",
                "precision_total.append(precision)\n",
                "specificity_total.append(specificity)\n",
                "recall_total.append(recall)\n",
                "f1_total.append(f1)\n",
                "accuracy_total.append(accuracy)"
            ]
        },
        {
            "cell_type": "markdown",
            "metadata": {},
            "source": [
                "### Cloudy"
            ]
        },
        {
            "cell_type": "code",
            "execution_count": 37,
            "metadata": {},
            "outputs": [
                {
                    "name": "stdout",
                    "output_type": "stream",
                    "text": [
                        "Processing 356 files with 12 cores\n"
                    ]
                },
                {
                    "name": "stderr",
                    "output_type": "stream",
                    "text": [
                        "100%|██████████| 356/356 [01:04<00:00,  5.56it/s]"
                    ]
                },
                {
                    "name": "stdout",
                    "output_type": "stream",
                    "text": [
                        "Precision: 0.850\n",
                        "specificity: 0.882\n",
                        "Recall: 0.875\n",
                        "F1 Score: 0.862\n",
                        "Accuracy: 0.879\n"
                    ]
                },
                {
                    "name": "stderr",
                    "output_type": "stream",
                    "text": [
                        "\n"
                    ]
                },
                {
                    "data": {
                        "image/png": "[encoded data removed]",
                        "text/plain": [
                            "<Figure size 432x288 with 2 Axes>"
                        ]
                    },
                    "metadata": {
                        "needs_background": "light"
                    },
                    "output_type": "display_data"
                }
            ],
            "source": [
                "parking = \"UFPR05\"\n",
                "confusion_matrix, real, predicted = weather_condition_test(parking, PARAMS_UFPR04, \"Cloudy\")\n",
                "precision, specificity, recall, f1, accuracy = show_confusion_matrix(confusion_matrix, real, predicted)\n",
                "\n",
                "precision_total.append(precision)\n",
                "specificity_total.append(specificity)\n",
                "recall_total.append(recall)\n",
                "f1_total.append(f1)\n",
                "accuracy_total.append(accuracy)"
            ]
        },
        {
            "cell_type": "markdown",
            "metadata": {},
            "source": [
                "### Rainy"
            ]
        },
        {
            "cell_type": "code",
            "execution_count": 38,
            "metadata": {},
            "outputs": [
                {
                    "name": "stdout",
                    "output_type": "stream",
                    "text": [
                        "Processing 56 files with 12 cores\n"
                    ]
                },
                {
                    "name": "stderr",
                    "output_type": "stream",
                    "text": [
                        "100%|██████████| 56/56 [00:08<00:00,  6.89it/s]\n"
                    ]
                },
                {
                    "name": "stdout",
                    "output_type": "stream",
                    "text": [
                        "Precision: 0.674\n",
                        "specificity: 0.849\n",
                        "Recall: 0.853\n",
                        "F1 Score: 0.753\n",
                        "Accuracy: 0.850\n"
                    ]
                },
                {
                    "data": {
                        "image/png": "[encoded data removed]",
                        "text/plain": [
                            "<Figure size 432x288 with 2 Axes>"
                        ]
                    },
                    "metadata": {
                        "needs_background": "light"
                    },
                    "output_type": "display_data"
                }
            ],
            "source": [
                "parking = \"UFPR05\"\n",
                "confusion_matrix, real, predicted = weather_condition_test(parking, PARAMS_UFPR04, \"Rainy\")\n",
                "precision, specificity, recall, f1, accuracy = show_confusion_matrix(confusion_matrix, real, predicted)\n",
                "\n",
                "precision_total.append(precision)\n",
                "specificity_total.append(specificity)\n",
                "recall_total.append(recall)\n",
                "f1_total.append(f1)\n",
                "accuracy_total.append(accuracy)"
            ]
        },
        {
            "cell_type": "markdown",
            "metadata": {},
            "source": [
                "## PUCPR"
            ]
        },
        {
            "cell_type": "markdown",
            "metadata": {},
            "source": [
                "### Sunny"
            ]
        },
        {
            "cell_type": "code",
            "execution_count": 39,
            "metadata": {},
            "outputs": [
                {
                    "name": "stdout",
                    "output_type": "stream",
                    "text": [
                        "Processing 578 files with 12 cores\n"
                    ]
                },
                {
                    "name": "stderr",
                    "output_type": "stream",
                    "text": [
                        "100%|██████████| 578/578 [02:20<00:00,  4.13it/s]"
                    ]
                },
                {
                    "name": "stdout",
                    "output_type": "stream",
                    "text": [
                        "Precision: 0.884\n",
                        "specificity: 0.874\n",
                        "Recall: 0.956\n",
                        "F1 Score: 0.918\n",
                        "Accuracy: 0.915\n"
                    ]
                },
                {
                    "name": "stderr",
                    "output_type": "stream",
                    "text": [
                        "\n"
                    ]
                },
                {
                    "data": {
                        "image/png": "[encoded data removed]",
                        "text/plain": [
                            "<Figure size 432x288 with 2 Axes>"
                        ]
                    },
                    "metadata": {
                        "needs_background": "light"
                    },
                    "output_type": "display_data"
                }
            ],
            "source": [
                "parking = \"PUCPR\"\n",
                "confusion_matrix, real, predicted = weather_condition_test(parking, PARAMS_UFPR04, \"Sunny\")\n",
                "precision, specificity, recall, f1, accuracy = show_confusion_matrix(confusion_matrix, real, predicted)\n",
                "\n",
                "precision_total.append(precision)\n",
                "specificity_total.append(specificity)\n",
                "recall_total.append(recall)\n",
                "f1_total.append(f1)\n",
                "accuracy_total.append(accuracy)"
            ]
        },
        {
            "cell_type": "markdown",
            "metadata": {},
            "source": [
                "### Cloudy"
            ]
        },
        {
            "cell_type": "code",
            "execution_count": 40,
            "metadata": {},
            "outputs": [
                {
                    "name": "stdout",
                    "output_type": "stream",
                    "text": [
                        "Processing 332 files with 12 cores\n"
                    ]
                },
                {
                    "name": "stderr",
                    "output_type": "stream",
                    "text": [
                        "100%|██████████| 332/332 [01:37<00:00,  3.41it/s]"
                    ]
                },
                {
                    "name": "stdout",
                    "output_type": "stream",
                    "text": [
                        "Precision: 0.989\n",
                        "specificity: 0.979\n",
                        "Recall: 0.920\n",
                        "F1 Score: 0.953\n",
                        "Accuracy: 0.940\n"
                    ]
                },
                {
                    "name": "stderr",
                    "output_type": "stream",
                    "text": [
                        "\n"
                    ]
                },
                {
                    "data": {
                        "image/png": "[encoded data removed]",
                        "text/plain": [
                            "<Figure size 432x288 with 2 Axes>"
                        ]
                    },
                    "metadata": {
                        "needs_background": "light"
                    },
                    "output_type": "display_data"
                }
            ],
            "source": [
                "parking = \"PUCPR\"\n",
                "confusion_matrix, real, predicted = weather_condition_test(parking, PARAMS_UFPR04, \"Cloudy\")\n",
                "precision, specificity, recall, f1, accuracy = show_confusion_matrix(confusion_matrix, real, predicted)\n",
                "\n",
                "precision_total.append(precision)\n",
                "specificity_total.append(specificity)\n",
                "recall_total.append(recall)\n",
                "f1_total.append(f1)\n",
                "accuracy_total.append(accuracy)"
            ]
        },
        {
            "cell_type": "markdown",
            "metadata": {},
            "source": [
                "### Rainy"
            ]
        },
        {
            "cell_type": "code",
            "execution_count": 41,
            "metadata": {},
            "outputs": [
                {
                    "name": "stdout",
                    "output_type": "stream",
                    "text": [
                        "Processing 207 files with 12 cores\n"
                    ]
                },
                {
                    "name": "stderr",
                    "output_type": "stream",
                    "text": [
                        "100%|██████████| 207/207 [00:50<00:00,  4.08it/s]\n"
                    ]
                },
                {
                    "name": "stdout",
                    "output_type": "stream",
                    "text": [
                        "Precision: 0.953\n",
                        "specificity: 0.977\n",
                        "Recall: 0.804\n",
                        "F1 Score: 0.872\n",
                        "Accuracy: 0.913\n"
                    ]
                },
                {
                    "data": {
                        "image/png": "[encoded data removed]",
                        "text/plain": [
                            "<Figure size 432x288 with 2 Axes>"
                        ]
                    },
                    "metadata": {
                        "needs_background": "light"
                    },
                    "output_type": "display_data"
                }
            ],
            "source": [
                "parking = \"PUCPR\"\n",
                "confusion_matrix, real, predicted = weather_condition_test(parking, PARAMS_UFPR04, \"Rainy\")\n",
                "precision, specificity, recall, f1, accuracy = show_confusion_matrix(confusion_matrix, real, predicted)\n",
                "\n",
                "precision_total.append(precision)\n",
                "specificity_total.append(specificity)\n",
                "recall_total.append(recall)\n",
                "f1_total.append(f1)\n",
                "accuracy_total.append(accuracy)"
            ]
        },
        {
            "cell_type": "markdown",
            "metadata": {},
            "source": [
                "## Total results"
            ]
        },
        {
            "cell_type": "code",
            "execution_count": 42,
            "metadata": {},
            "outputs": [
                {
                    "name": "stdout",
                    "output_type": "stream",
                    "text": [
                        "               precision  specificity    recall        f1  accuracy\n",
                        "UFPR04 Sunny    0.879779     0.916773  0.866270  0.872972  0.895924\n",
                        "UFPR04 Cloudy   0.942736     0.900771  0.835545  0.885910  0.857617\n",
                        "UFPR04 Rainy    0.924064     0.879865  0.836399  0.878049  0.852217\n",
                        "UFPR05 Sunny    0.820839     0.853303  0.896471  0.856990  0.871800\n",
                        "UFPR05 Cloudy   0.849810     0.882418  0.874675  0.862063  0.879073\n",
                        "UFPR05 Rainy    0.673684     0.848780  0.853333  0.752941  0.850000\n",
                        "PUCPR Sunny     0.883730     0.874494  0.955974  0.918433  0.915190\n",
                        "PUCPR Cloudy    0.988502     0.979089  0.919907  0.952972  0.939940\n",
                        "PUCPR Rainy     0.952914     0.976821  0.803880  0.872076  0.913092\n"
                    ]
                }
            ],
            "source": [
                "import pandas as pd\n",
                "\n",
                "data = {\n",
                "  \"precision\": precision_total,\n",
                "  \"specificity\": specificity_total,\n",
                "  \"recall\": recall_total,\n",
                "  \"f1\": f1_total,\n",
                "  \"accuracy\": accuracy_total\n",
                "}\n",
                "\n",
                "df = pd.DataFrame(data, index = [\"UFPR04 Sunny\", \"UFPR04 Cloudy\", \"UFPR04 Rainy\",\"UFPR05 Sunny\", \"UFPR05 Cloudy\", \"UFPR05 Rainy\",\"PUCPR Sunny\", \"PUCPR Cloudy\", \"PUCPR Rainy\"])\n",
                "\n",
                "print(df.round(3))  "
            ]
        }
    ],
    "metadata": {
        "kernelspec": {
            "display_name": "Python 3.9.2 ('VisionParkDetectEnv': venv)",
            "language": "python",
            "name": "python3"
        },
        "language_info": {
            "codemirror_mode": {
                "name": "ipython",
                "version": 3
            },
            "file_extension": ".py",
            "mimetype": "text/x-python",
            "name": "python",
            "nbconvert_exporter": "python",
            "pygments_lexer": "ipython3",
            "version": "3.9.2"
        },
        "orig_nbformat": 4,
        "vscode": {
            "interpreter": {
                "hash": "751c3e3c5f8bc6a4e4e068bb230f26d845892c4443aea059e9acc5405f3faaee"
            }
        }
    },
    "nbformat": 4,
    "nbformat_minor": 2
}