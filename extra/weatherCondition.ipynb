{
    "cells": [
        {
            "cell_type": "markdown",
            "metadata": {},
            "source": [
                "# Weather condition test"
            ]
        },
        {
            "cell_type": "code",
            "execution_count": null,
            "metadata": {},
            "outputs": [],
            "source": [
                "import sys\n",
                "sys.path.insert(0, './src')\n",
                "import cv2 as cv\n",
                "from src.app.ParkingOccupancyProcessorLocal import ParkingOccupancyProcessorLocal\n",
                "from src.data.ParkingProviderLocal import ParkingProviderLocalParams\n",
                "from src.detector.entity.DetectionParams import DetectionParams\n",
                "from src.metrics.entity.PerformanceMetrics import PerformanceMetrics\n",
                "from src.metrics.PerformanceMetricsProviderSklearn import PerformanceMetricsProviderSklearn\n",
                "\n",
                "print(\"Hello World!\")\n",
                "PARAMS_UFPR04 = DetectionParams(\n",
                "    (3, 3), 0, cv.ADAPTIVE_THRESH_GAUSSIAN_C, 41, 11, 3, 104, vacant_threshold=0.25, show_imshow=False)  # UFPR04\n",
                "\n",
                "parking_id = \"UFPR04\"\n",
                "provider_params = ParkingProviderLocalParams(\n",
                "    parking_id=parking_id, path='E:\\\\Documents\\\\PKLot\\\\PKLot\\\\PKLot\\\\PKLot\\\\'+parking_id, k=4)\n",
                "\n",
                "metrics: PerformanceMetricsProviderSklearn = PerformanceMetricsProviderSklearn()\n",
                "\n",
                "processor = ParkingOccupancyProcessorLocal(\n",
                "    parking_provider_params=provider_params, detection_params=PARAMS_UFPR04, performance_metrics_provider=metrics)\n",
                "\n",
                "for i in range(20):\n",
                "    print(f\"Processing: {str(i)}\")\n",
                "    processor.process()\n",
                "\n",
                "metrics.calculate_metrics()\n",
                "metrics.show_confusion_matrix()\n",
                "\n",
                "print(\"Bye World!\")\n",
                "# metrics : PerformanceMetrics = processor.process()"
            ]
        },
        {
            "cell_type": "code",
            "execution_count": null,
            "metadata": {},
            "outputs": [],
            "source": [
                "from ParkingSpaceDetector import *\n",
                "import random\n",
                "import glob\n",
                "import pandas as pd\n",
                "\n",
                "\n",
                "#Define global params for each parking\n",
                "PARAMS_UFPR04 = DetectionParams((3, 3), 0, cv.ADAPTIVE_THRESH_GAUSSIAN_C, 41, 11, 3, 104, vacant_threshold=0.25)  # UFPR04\n",
                "PARAMS_UFPR05 =  DetectionParams((5,5), 0, cv.ADAPTIVE_THRESH_GAUSSIAN_C, 33, 9, 3, 20,vacant_threshold=0.24) # UPR05\n",
                "PARAMS_PUCPR = DetectionParams((5,5), 0, cv.ADAPTIVE_THRESH_GAUSSIAN_C, 27, 7, 3, 85, vacant_threshold=0.26) # PUCPR\n",
                "\n",
                "def weather_condition_test(parking_name, params:DetectionParams, weather_condition):\n",
                "    path = 'E:\\\\Documents\\\\PKLot\\\\PKLot\\\\PKLot\\\\PKLot\\\\'+parking_name+'\\\\'+weather_condition\n",
                "    files = glob.glob(path + '/**/*.jpg', recursive=True)\n",
                "    selected_files = random.choices(files, k=int(len(files)/4))\n",
                "    return process_batch(selected_files, params)\n",
                "\n",
                "# Data columns\n",
                "parking_total = list()\n",
                "weather_condition_total = list()\n",
                "precision_total = list()  # Preicisón: Tasa de TP, lo bien que predice hueco libre sin obtener falsos positivos\n",
                "specificity_total = list() # Especificdad: Tasa de TN, \n",
                "recall_total = list()     # Sensibilidad: la proporción de huecos libres que detectan y no se le escapan\n",
                "f1_total = list()\n",
                "accuracy_total = list()"
            ]
        },
        {
            "cell_type": "markdown",
            "metadata": {},
            "source": [
                "## UFPR04"
            ]
        },
        {
            "cell_type": "markdown",
            "metadata": {},
            "source": [
                "### Sunny"
            ]
        },
        {
            "cell_type": "code",
            "execution_count": null,
            "metadata": {},
            "outputs": [],
            "source": [
                "parking = \"UFPR04\"\n",
                "confusion_matrix, real, predicted = weather_condition_test(parking, PARAMS_UFPR04, \"Sunny\")\n",
                "precision, specificity, recall, f1, accuracy = show_confusion_matrix(confusion_matrix, real, predicted)\n",
                "\n",
                "precision_total.append(precision)\n",
                "specificity_total.append(specificity)\n",
                "recall_total.append(recall)\n",
                "f1_total.append(f1)\n",
                "accuracy_total.append(accuracy)"
            ]
        },
        {
            "cell_type": "markdown",
            "metadata": {},
            "source": [
                "### Cloudy"
            ]
        },
        {
            "cell_type": "code",
            "execution_count": null,
            "metadata": {},
            "outputs": [],
            "source": [
                "parking = \"UFPR04\"\n",
                "confusion_matrix, real, predicted = weather_condition_test(parking, PARAMS_UFPR04, \"Cloudy\")\n",
                "precision, specificity, recall, f1, accuracy = show_confusion_matrix(confusion_matrix, real, predicted)\n",
                "\n",
                "precision_total.append(precision)\n",
                "specificity_total.append(specificity)\n",
                "recall_total.append(recall)\n",
                "f1_total.append(f1)\n",
                "accuracy_total.append(accuracy)"
            ]
        },
        {
            "cell_type": "markdown",
            "metadata": {},
            "source": [
                "### Rainy"
            ]
        },
        {
            "cell_type": "code",
            "execution_count": null,
            "metadata": {},
            "outputs": [],
            "source": [
                "parking = \"UFPR04\"\n",
                "confusion_matrix, real, predicted = weather_condition_test(parking, PARAMS_UFPR04, \"Rainy\")\n",
                "precision, specificity, recall, f1, accuracy = show_confusion_matrix(confusion_matrix, real, predicted)\n",
                "\n",
                "precision_total.append(precision)\n",
                "specificity_total.append(specificity)\n",
                "recall_total.append(recall)\n",
                "f1_total.append(f1)\n",
                "accuracy_total.append(accuracy)"
            ]
        },
        {
            "cell_type": "markdown",
            "metadata": {},
            "source": [
                "## UFPR05"
            ]
        },
        {
            "cell_type": "markdown",
            "metadata": {},
            "source": [
                "### Sunny"
            ]
        },
        {
            "cell_type": "code",
            "execution_count": null,
            "metadata": {},
            "outputs": [],
            "source": [
                "parking = \"UFPR05\"\n",
                "confusion_matrix, real, predicted = weather_condition_test(parking, PARAMS_UFPR05, \"Sunny\")\n",
                "precision, specificity, recall, f1, accuracy = show_confusion_matrix(confusion_matrix, real, predicted)\n",
                "\n",
                "precision_total.append(precision)\n",
                "specificity_total.append(specificity)\n",
                "recall_total.append(recall)\n",
                "f1_total.append(f1)\n",
                "accuracy_total.append(accuracy)"
            ]
        },
        {
            "cell_type": "markdown",
            "metadata": {},
            "source": [
                "### Cloudy"
            ]
        },
        {
            "cell_type": "code",
            "execution_count": null,
            "metadata": {},
            "outputs": [],
            "source": [
                "parking = \"UFPR05\"\n",
                "confusion_matrix, real, predicted = weather_condition_test(parking, PARAMS_UFPR05, \"Cloudy\")\n",
                "precision, specificity, recall, f1, accuracy = show_confusion_matrix(confusion_matrix, real, predicted)\n",
                "\n",
                "precision_total.append(precision)\n",
                "specificity_total.append(specificity)\n",
                "recall_total.append(recall)\n",
                "f1_total.append(f1)\n",
                "accuracy_total.append(accuracy)"
            ]
        },
        {
            "cell_type": "markdown",
            "metadata": {},
            "source": [
                "### Rainy"
            ]
        },
        {
            "cell_type": "code",
            "execution_count": null,
            "metadata": {},
            "outputs": [],
            "source": [
                "parking = \"UFPR05\"\n",
                "confusion_matrix, real, predicted = weather_condition_test(parking, PARAMS_UFPR05, \"Rainy\")\n",
                "precision, specificity, recall, f1, accuracy = show_confusion_matrix(confusion_matrix, real, predicted)\n",
                "\n",
                "precision_total.append(precision)\n",
                "specificity_total.append(specificity)\n",
                "recall_total.append(recall)\n",
                "f1_total.append(f1)\n",
                "accuracy_total.append(accuracy)"
            ]
        },
        {
            "cell_type": "markdown",
            "metadata": {},
            "source": [
                "## PUCPR"
            ]
        },
        {
            "cell_type": "markdown",
            "metadata": {},
            "source": [
                "### Sunny"
            ]
        },
        {
            "cell_type": "code",
            "execution_count": null,
            "metadata": {},
            "outputs": [],
            "source": [
                "parking = \"PUCPR\"\n",
                "confusion_matrix, real, predicted = weather_condition_test(parking, PARAMS_PUCPR, \"Sunny\")\n",
                "precision, specificity, recall, f1, accuracy = show_confusion_matrix(confusion_matrix, real, predicted)\n",
                "\n",
                "precision_total.append(precision)\n",
                "specificity_total.append(specificity)\n",
                "recall_total.append(recall)\n",
                "f1_total.append(f1)\n",
                "accuracy_total.append(accuracy)"
            ]
        },
        {
            "cell_type": "markdown",
            "metadata": {},
            "source": [
                "### Cloudy"
            ]
        },
        {
            "cell_type": "code",
            "execution_count": null,
            "metadata": {},
            "outputs": [],
            "source": [
                "parking = \"PUCPR\"\n",
                "confusion_matrix, real, predicted = weather_condition_test(parking, PARAMS_PUCPR, \"Cloudy\")\n",
                "precision, specificity, recall, f1, accuracy = show_confusion_matrix(confusion_matrix, real, predicted)\n",
                "\n",
                "precision_total.append(precision)\n",
                "specificity_total.append(specificity)\n",
                "recall_total.append(recall)\n",
                "f1_total.append(f1)\n",
                "accuracy_total.append(accuracy)"
            ]
        },
        {
            "cell_type": "markdown",
            "metadata": {},
            "source": [
                "### Rainy"
            ]
        },
        {
            "cell_type": "code",
            "execution_count": null,
            "metadata": {},
            "outputs": [],
            "source": [
                "parking = \"PUCPR\"\n",
                "confusion_matrix, real, predicted = weather_condition_test(parking, PARAMS_PUCPR, \"Rainy\")\n",
                "precision, specificity, recall, f1, accuracy = show_confusion_matrix(confusion_matrix, real, predicted)\n",
                "\n",
                "precision_total.append(precision)\n",
                "specificity_total.append(specificity)\n",
                "recall_total.append(recall)\n",
                "f1_total.append(f1)\n",
                "accuracy_total.append(accuracy)"
            ]
        },
        {
            "cell_type": "markdown",
            "metadata": {},
            "source": [
                "## Total results"
            ]
        },
        {
            "cell_type": "code",
            "execution_count": null,
            "metadata": {},
            "outputs": [],
            "source": [
                "import pandas as pd\n",
                "\n",
                "data = {\n",
                "  \"precision\": precision_total,\n",
                "  \"specificity\": specificity_total,\n",
                "  \"recall\": recall_total,\n",
                "  \"f1\": f1_total,\n",
                "  \"accuracy\": accuracy_total\n",
                "}\n",
                "\n",
                "df = pd.DataFrame(data, index = [\"UFPR04 Sunny\", \"UFPR04 Cloudy\", \"UFPR04 Rainy\",\"UFPR05 Sunny\", \"UFPR05 Cloudy\", \"UFPR05 Rainy\", \"PUCPR Cloudy\", \"PUCPR Rainy\",\"PUCPR Sunny\"])\n",
                "\n",
                "print(df.round(3))  "
            ]
        }
    ],
    "metadata": {
        "kernelspec": {
            "display_name": "Python 3.9.2 ('VisionParkDetectEnv': venv)",
            "language": "python",
            "name": "python3"
        },
        "language_info": {
            "codemirror_mode": {
                "name": "ipython",
                "version": 3
            },
            "file_extension": ".py",
            "mimetype": "text/x-python",
            "name": "python",
            "nbconvert_exporter": "python",
            "pygments_lexer": "ipython3",
            "version": "3.9.2"
        },
        "orig_nbformat": 4,
        "vscode": {
            "interpreter": {
                "hash": "751c3e3c5f8bc6a4e4e068bb230f26d845892c4443aea059e9acc5405f3faaee"
            }
        }
    },
    "nbformat": 4,
    "nbformat_minor": 2
}
