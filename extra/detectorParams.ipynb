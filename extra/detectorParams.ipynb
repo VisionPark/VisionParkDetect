{
 "cells": [
  {
   "attachments": {},
   "cell_type": "markdown",
   "metadata": {},
   "source": [
    "# Find suitable detector params for each parking"
   ]
  },
  {
   "cell_type": "code",
   "execution_count": 1,
   "metadata": {},
   "outputs": [],
   "source": [
    "import random\n",
    "import numpy\n",
    "from datetime import datetime\n",
    "from src.data.ParkingProvider import NoSpacesException, NoImageException\n",
    "from src.metrics.PerformanceMetricsProviderSklearn import PerformanceMetricsProviderSklearn\n",
    "from src.metrics.entity.PerformanceMetrics import PerformanceMetrics\n",
    "from src.detector.entity.DetectionParams import DetectionParams\n",
    "from src.data.ParkingProviderLocal import ParkingProviderLocalParams,ParkingProviderLocal\n",
    "from src.data.ParkingProviderLocalSqlite import ParkingProviderLocalSqlite, ParkingProviderLocalSqliteParams\n",
    "from src.data.ParkingProviderSqlite import ParkingProviderSqlite, ParkingProviderSqliteParams\n",
    "\n",
    "from src.app.ParkingOccupancyProcessorLocal import ParkingOccupancyProcessorLocal\n",
    "from src.app.ParkingOccupancyProcessorLocalSqlite import ParkingOccupancyProcessorLocalSqlite\n",
    "from src.app.ParkingOccupancyProcessorSqlite import ParkingOccupancyProcessorSqlite\n",
    "\n",
    "\n",
    "from src.detector.OccupancyDetectorBorders import OccupancyDetectorBorders\n",
    "import cv2 as cv\n",
    "\n",
    "metrics_list = list()\n",
    "row_names = list()\n",
    "random_seed = datetime.now().timestamp\n",
    "\n",
    "def test_parking(parking_id, detection_params:DetectionParams, row_name, local_provider=True, process_batch=False):\n",
    "    metrics_provider: PerformanceMetricsProviderSklearn = PerformanceMetricsProviderSklearn()\n",
    "\n",
    "    if local_provider:\n",
    "        provider_params = ParkingProviderLocalParams(\n",
    "        parking_id=parking_id, path='E:\\\\Documents\\\\PKLot\\\\PKLot\\\\PKLot\\\\PKLot\\\\'+parking_id, k=20, random_seed=random_seed)\n",
    "        processor = ParkingOccupancyProcessorLocal(\n",
    "        parking_provider_params=provider_params, detection_params=detection_params, performance_metrics_provider=metrics_provider)\n",
    "\n",
    "    \n",
    "    else:\n",
    "        # provider_params = ParkingProviderLocalSqliteParams(\n",
    "        # parking_id=parking_id, path='E:\\\\Documents\\\\PKLot\\\\PKLot\\\\PKLot\\\\PKLot\\\\'+parking_id, k=4, random_seed=random_seed,db_file ='E:/OneDrive - UNIVERSIDAD DE HUELVA\\TFG\\VisionParkWeb-main\\VisionParkWeb\\VisionParkWeb\\db.sqlite3')\n",
    "        # processor = ParkingOccupancyProcessorLocalSqlite(\n",
    "        # parking_provider_params=provider_params, detection_params=detection_params, performance_metrics_provider=metrics_provider)\n",
    "\n",
    "        provider_params = ParkingProviderSqliteParams( parking_id=parking_id, db_file ='E:/OneDrive - UNIVERSIDAD DE HUELVA\\TFG\\VisionParkWeb-main\\VisionParkWeb\\VisionParkWeb\\db.sqlite3')\n",
    "        processor = ParkingOccupancyProcessorSqlite(\n",
    "        parking_provider_params=provider_params, detection_params=detection_params, performance_metrics_provider=metrics_provider)\n",
    "\n",
    "    \n",
    "    \n",
    "    if process_batch:\n",
    "        try:\n",
    "            detection_params.show_imshow=False\n",
    "            processor.process_batch()\n",
    "        except (NoSpacesException, NoImageException) as ex:\n",
    "            print(f\"Finished processing samples: \", ex)\n",
    "\n",
    "    else:\n",
    "        while True:\n",
    "            try:\n",
    "                processor.process()\n",
    "                if not local_provider:\n",
    "                    break\n",
    "            except (NoSpacesException, NoImageException) as ex:\n",
    "                print(f\"Finished processing samples: \", ex)\n",
    "                break\n",
    "       \n",
    "    if local_provider:\n",
    "        metrics_provider.calculate_metrics()\n",
    "        metrics_provider.show_confusion_matrix()\n",
    "\n",
    "        metrics_list.append(metrics_provider.metrics)\n",
    "        row_names.append(row_name)\n",
    "    \n",
    "def setup_params(parking_id, initial_params:DetectionParams=None):\n",
    "    img_empty = cv.imread(f\"E:\\OneDrive - UNIVERSIDAD DE HUELVA\\TFG\\VisionParkDetect\\dataset\\{parking_id}_empty.jpg\", cv.IMREAD_GRAYSCALE)\n",
    "    \n",
    "    provider_params = ParkingProviderLocalParams(\n",
    "        parking_id=parking_id, path='E:\\\\Documents\\\\PKLot\\\\PKLot\\\\PKLot\\\\PKLot\\\\'+parking_id, k=200)\n",
    "\n",
    "    parking_provider = ParkingProviderLocal(provider_params)\n",
    "\n",
    "    # metrics: PerformanceMetricsProviderSklearn = PerformanceMetricsProviderSklearn()\n",
    "\n",
    "    # processor = ParkingOccupancyProcessorLocal(\n",
    "    #     parking_provider_params=provider_params, detection_params=PARAMS_UFPR04, performance_metrics_provider=metrics)\n",
    "\n",
    "    try:\n",
    "        params = initial_params\n",
    "        while True:\n",
    "        # while (it > 0 and i < it) or it < 0:\n",
    "        #     i = i+1\n",
    "        #     print(f\"Processing sample: {str(i)}\")\n",
    "        #     processor.process()\n",
    "\n",
    "            parking = parking_provider.get_parking()\n",
    "            img = parking.image\n",
    "            spaces = parking.spaces\n",
    "\n",
    "            params = OccupancyDetectorBorders.setup_params_img(img, spaces, params, img_empty)\n",
    "\n",
    "            \n",
    "            cv.namedWindow(\"Press ESC to exit, other key to continue\")\n",
    "            key = cv.waitKey(0)\n",
    "            if key == 27:\n",
    "                cv.destroyAllWindows()\n",
    "                break  \n",
    "              \n",
    "            cv.destroyAllWindows()\n",
    "   \n",
    "    except (NoSpacesException, NoImageException) as ex:\n",
    "        print(f\"Finished processing: \", ex)\n",
    "    finally:\n",
    "        return params\n",
    "    "
   ]
  },
  {
   "cell_type": "code",
   "execution_count": null,
   "metadata": {},
   "outputs": [],
   "source": [
    "PARAMS_UFPR04 = DetectionParams((3, 3), 0, cv.ADAPTIVE_THRESH_GAUSSIAN_C, at_blockSize=31, at_C=10, median_k=3, bw_size=80, vacant_threshold=0.05, show_imshow=True)  # UFPR04\n",
    "PARAMS_UFPR04.bf_d = None\n",
    "PARAMS_UFPR04.diff_threshold = 60\n",
    "PARAMS_UFPR04.parking_id = 'UFPR04'\n",
    "\n",
    "test_parking('UFPR04', PARAMS_UFPR04, 'UFPR04 GaussianBlur',local_provider=True, process_batch=False)"
   ]
  },
  {
   "attachments": {},
   "cell_type": "markdown",
   "metadata": {},
   "source": [
    "## UFPR04"
   ]
  },
  {
   "cell_type": "code",
   "execution_count": null,
   "metadata": {},
   "outputs": [],
   "source": [
    "PARAMS_UFPR04 = DetectionParams((3,3), 0, cv.ADAPTIVE_THRESH_GAUSSIAN_C, at_blockSize=31, at_C=10, median_k=5, bw_size=150, vacant_threshold=0.23, show_imshow=True)  # UFPR04\n",
    "\n",
    "p = setup_params('UFPR04',PARAMS_UFPR04)\n",
    "p.show_imshow=True\n",
    "print(p)"
   ]
  },
  {
   "cell_type": "code",
   "execution_count": null,
   "metadata": {},
   "outputs": [],
   "source": [
    "PARAMS_UFPR04 = DetectionParams((9, 9), 0, cv.ADAPTIVE_THRESH_GAUSSIAN_C, at_blockSize=31, at_C=10, median_k=3, bw_size=50, vacant_threshold=0.23, show_imshow=True)  # UFPR04\n",
    "PARAMS_UFPR04.bf_d = None\n",
    "test_parking('UFPR04', PARAMS_UFPR04, 'UFPR04 GaussianBlur',local_provider=True, process_batch=False)"
   ]
  },
  {
   "attachments": {},
   "cell_type": "markdown",
   "metadata": {},
   "source": [
    "#### With web app segmentation"
   ]
  },
  {
   "cell_type": "code",
   "execution_count": null,
   "metadata": {},
   "outputs": [],
   "source": [
    "PARAMS_UFPR04 = DetectionParams((3,3), 0, cv.ADAPTIVE_THRESH_GAUSSIAN_C, at_blockSize=31, at_C=10, median_k=3, bw_size=150, vacant_threshold=0.12, show_imshow=True)  # UFPR04\n",
    "PARAMS_UFPR04.bf_d = None\n",
    "test_parking('UFPR04', PARAMS_UFPR04, 'UFPR04',local_provider=False, process_batch=False)"
   ]
  },
  {
   "attachments": {},
   "cell_type": "markdown",
   "metadata": {},
   "source": [
    "## UFPR05"
   ]
  },
  {
   "cell_type": "code",
   "execution_count": null,
   "metadata": {},
   "outputs": [],
   "source": [
    "PARAMS_UFPR04 = DetectionParams((3,3), 0, cv.ADAPTIVE_THRESH_GAUSSIAN_C, at_blockSize=31, at_C=10, median_k=3, bw_size=150, vacant_threshold=0.12, show_imshow=True)  # UFPR04\n",
    "PARAMS_UFPR05 = DetectionParams(gb_k=(3,3), gb_s=0, at_method=cv.ADAPTIVE_THRESH_GAUSSIAN_C, at_blockSize=33, at_C=9, median_k=3, bw_size=20, vacant_threshold=0.26, show_imshow=False)\n",
    "# PARAMS_UFPR05.bf_d = 4\n",
    "# PARAMS_UFPR05.bf_sigma_color = 60\n",
    "# PARAMS_UFPR05.bf_sigma_space = 60\n",
    "# p = setup_params('UFPR05', PARAMS_UFPR05)\n",
    "# p.show_imshow=True\n",
    "# print(p)\n",
    "\n",
    "test_parking('UFPR05', PARAMS_UFPR05, 'UFPR05',local_provider=True, process_batch=True)\n"
   ]
  },
  {
   "cell_type": "code",
   "execution_count": null,
   "metadata": {},
   "outputs": [],
   "source": [
    "# p = setup_params('UFPR05', PARAMS_UFPR05)\n",
    "# p.show_imshow=True\n",
    "# print(p)\n",
    "\n",
    "PARAMS_UFPR05 = DetectionParams(gb_k=(5, 5), gb_s=0, at_method=cv.ADAPTIVE_THRESH_GAUSSIAN_C, at_blockSize=33, at_C=7, median_k=3, bw_size=85, vacant_threshold=0.3, show_imshow=True)\n",
    "test_parking('UFPR05', PARAMS_UFPR05, 'UFPR05 params 2', process_batch=True)"
   ]
  },
  {
   "cell_type": "code",
   "execution_count": null,
   "metadata": {},
   "outputs": [],
   "source": [
    "PARAMS_UFPR05 = DetectionParams(gb_k=(5, 5), gb_s=0, at_method=cv.ADAPTIVE_THRESH_GAUSSIAN_C, at_blockSize=33, at_C=9, median_k=3, bw_size=300, vacant_threshold=0.22, show_imshow=True)\n",
    "# p = setup_params('UFPR05', PARAMS_UFPR05)\n",
    "# p.show_imshow=True\n",
    "# print(p)\n",
    "\n",
    "test_parking('UFPR05', PARAMS_UFPR05, 'UFPR05 params 3', process_batch=True)"
   ]
  },
  {
   "attachments": {},
   "cell_type": "markdown",
   "metadata": {},
   "source": [
    "#### With web app segmentation"
   ]
  },
  {
   "cell_type": "code",
   "execution_count": null,
   "metadata": {},
   "outputs": [],
   "source": [
    "PARAMS_UFPR05 = DetectionParams(gb_k=(5, 5), gb_s=0, at_method=cv.ADAPTIVE_THRESH_GAUSSIAN_C, at_blockSize=33, at_C=9, median_k=3, bw_size=300, vacant_threshold=0.12, show_imshow=True)\n",
    "PARAMS_UFPR05.bf_d = None\n",
    "test_parking('UFPR05', PARAMS_UFPR05, 'UFPR05',local_provider=False, process_batch=False)"
   ]
  },
  {
   "attachments": {},
   "cell_type": "markdown",
   "metadata": {},
   "source": [
    "## PUCPR"
   ]
  },
  {
   "cell_type": "code",
   "execution_count": null,
   "metadata": {},
   "outputs": [],
   "source": [
    "PARAMS_UFPR05 = DetectionParams(gb_k=(5, 5), gb_s=0, at_method=cv.ADAPTIVE_THRESH_GAUSSIAN_C, at_blockSize=33, at_C=9, median_k=3, bw_size=300, vacant_threshold=0.12, show_imshow=True)\n",
    "\n",
    "p = setup_params('PUCPR', PARAMS_UFPR05)\n",
    "p.show_imshow=True\n",
    "print(p)"
   ]
  },
  {
   "cell_type": "code",
   "execution_count": null,
   "metadata": {},
   "outputs": [],
   "source": [
    "PARAMS_PUCPR = DetectionParams(gb_k=(5, 5), gb_s=0, at_method=cv.ADAPTIVE_THRESH_GAUSSIAN_C, at_blockSize=27, at_C=7, median_k=3, bw_size=85, vacant_threshold=0.28, show_imshow=True)\n",
    "# p = setup_params('UFPR05', PARAMS_UFPR05)\n",
    "# p.show_imshow=True\n",
    "# print(p)\n",
    "\n",
    "test_parking('PUCPR', PARAMS_PUCPR, 'PUCPR', process_batch=True)"
   ]
  },
  {
   "cell_type": "code",
   "execution_count": null,
   "metadata": {},
   "outputs": [],
   "source": [
    "PARAMS_PUCPR = DetectionParams(gb_k=(5, 5), gb_s=0, at_method=cv.ADAPTIVE_THRESH_GAUSSIAN_C, at_blockSize=27, at_C=7, median_k=3, bw_size=85, vacant_threshold=0.28, show_imshow=True)\n",
    "# p = setup_params('UFPR05', PARAMS_UFPR05)\n",
    "# p.show_imshow=True\n",
    "# print(p)\n",
    "\n",
    "test_parking('PUCPR', PARAMS_PUCPR, 'PUCPR', process_batch=False, local_provider=False)"
   ]
  },
  {
   "cell_type": "code",
   "execution_count": null,
   "metadata": {},
   "outputs": [],
   "source": [
    "PARAMS_PUCPR = DetectionParams(gb_k=(5, 5), gb_s=0, at_method=cv.ADAPTIVE_THRESH_GAUSSIAN_C, at_blockSize=27, at_C=7, median_k=3, bw_size=85, vacant_threshold=0.2, show_imshow=True)\n",
    "# p = setup_params('UFPR05', PARAMS_UFPR05)\n",
    "# p.show_imshow=True\n",
    "# print(p)\n",
    "\n",
    "test_parking('PUCPR', PARAMS_PUCPR, 'PUCPR', process_batch=False, local_provider=False)"
   ]
  },
  {
   "cell_type": "code",
   "execution_count": null,
   "metadata": {},
   "outputs": [],
   "source": []
  },
  {
   "cell_type": "code",
   "execution_count": null,
   "metadata": {},
   "outputs": [],
   "source": []
  },
  {
   "cell_type": "code",
   "execution_count": null,
   "metadata": {},
   "outputs": [],
   "source": []
  },
  {
   "cell_type": "code",
   "execution_count": null,
   "metadata": {},
   "outputs": [],
   "source": [
    "# Step by step detection\n",
    "gaussianBlurKernel = (3, 3)  # Tamaño kernel suavizado gaussiano\n",
    "gaussianBlurSigma = 0\n",
    "at_blockSize = 41           # Tamaño vecindad umbral adaptativo\n",
    "at_C = 11                    # Constante a sustraer en el umbral adaptativo\n",
    "median_k = 3                # Tamaño kernel filtro mediana\n",
    "bw_size = 104                # Umbral Eliminar objetos pequeños\n",
    "params = DetectionParams(gaussianBlurKernel, gaussianBlurSigma,\n",
    "                         cv.ADAPTIVE_THRESH_GAUSSIAN_C, at_blockSize, at_C, median_k, bw_size, vacant_threshold=0.25, show_imshow=False)  # UFPR04\n",
    "\n",
    "confusion_matrix = detect_batch(selected_files, params)"
   ]
  },
  {
   "cell_type": "markdown",
   "metadata": {},
   "source": [
    "## UPR05"
   ]
  },
  {
   "cell_type": "code",
   "execution_count": null,
   "metadata": {},
   "outputs": [],
   "source": [
    "from ipynb.fs.full.ParkingSpaceDetector import *\n",
    "import random\n",
    "import glob\n",
    "\n",
    "# params = DetectionParams((5,5), 0, cv.ADAPTIVE_THRESH_GAUSSIAN_C, 33, 7, 3, 85) # UPR05\n",
    "path = 'E:\\\\Documents\\\\PKLot\\\\PKLot\\\\PKLot\\\\PKLot\\\\UFPR05'\n",
    "files = glob.glob(path+ '/**/*.jpg', recursive=True)            # Get all images in path\n",
    "selected_files = random.choices(files, k=int(len(files)/10))    # Select n random images from dataset"
   ]
  },
  {
   "cell_type": "code",
   "execution_count": null,
   "metadata": {},
   "outputs": [],
   "source": []
  },
  {
   "cell_type": "code",
   "execution_count": null,
   "metadata": {},
   "outputs": [],
   "source": [
    "import numpy as np\n",
    "parking_id = 'UFPR04'\n",
    "provider_params = ParkingProviderLocalParams(\n",
    "    parking_id=parking_id, path='E:\\\\Documents\\\\PKLot\\\\PKLot\\\\PKLot\\\\PKLot\\\\'+parking_id, k=4, random_seed=random_seed)\n",
    "\n",
    "provider = ParkingProviderLocal(provider_params)\n",
    "\n",
    "\n",
    "img = provider.fetch_image()[0]\n",
    "imgGray = cv.cvtColor(img, cv.COLOR_BGR2GRAY)\n",
    "\n",
    "# Create trackbars for adjusting threshold values\n",
    "cv.namedWindow(\"Trackbars\")\n",
    "cv.createTrackbar(\"1-Low Threshold\", \"Trackbars\", 0, 255, lambda x: None)\n",
    "cv.createTrackbar(\"1-High Threshold\", \"Trackbars\", 0, 1000, lambda x: None)\n",
    "cv.createTrackbar(\"d\", \"Trackbars\", 0, 255, lambda x: None)\n",
    "cv.createTrackbar(\"sigma color\", \"Trackbars\", 0, 1000, lambda x: None)\n",
    "cv.createTrackbar(\"sigma space\", \"Trackbars\", 0, 1000, lambda x: None)\n",
    "\n",
    "while True:\n",
    "\n",
    "    # Get the current values of the trackbars\n",
    "    lowThreshold = cv.getTrackbarPos(\"1-Low Threshold\", \"Trackbars\")\n",
    "    highThreshold = cv.getTrackbarPos(\"1-High Threshold\", \"Trackbars\")\n",
    "    d = cv.getTrackbarPos(\"d\", \"Trackbars\")\n",
    "    sc = cv.getTrackbarPos(\"sigma color\", \"Trackbars\")\n",
    "    ss = cv.getTrackbarPos(\"sigma space\", \"Trackbars\")\n",
    "\n",
    "    # Bilateral filter\n",
    "    imgBlur = cv.bilateralFilter(imgGray, d, sc, ss)\n",
    "\n",
    "    # Apply Canny edge detection\n",
    "    imgEdges = cv.Canny(imgBlur, lowThreshold, highThreshold)\n",
    "\n",
    "    # Show the resulting image\n",
    "    cv.imshow('Img', imgGray)\n",
    "    cv.imshow('Img Blur', imgBlur)\n",
    "    cv.imshow(\"Edges\", imgEdges)\n",
    "\n",
    "    # Wait for user input, and exit if the user presses the \"q\" key\n",
    "    key = cv.waitKey(1)\n",
    "    if key == ord(\"q\"):\n",
    "        # # Use Hough transform to detect lines in the edge map\n",
    "        # lines = cv.HoughLinesP(imgEdges, 1, np.pi/180, 100, minLineLength=100, maxLineGap=10)\n",
    "        # print(lines)\n",
    "        \n",
    "        provider.index += 1\n",
    "        img = provider.fetch_image()[0]\n",
    "        imgGray = cv.cvtColor(img, cv.COLOR_BGR2GRAY)\n",
    "        print('q')\n",
    "        \n",
    "        continue\n",
    "    elif key == 27:\n",
    "        cv.destroyAllWindows()\n",
    "        break\n",
    "    \n",
    "    elif key == ord('d'):\n",
    "        \n",
    "        OccupancyDetectorBorders\n",
    "\n"
   ]
  },
  {
   "cell_type": "code",
   "execution_count": null,
   "metadata": {},
   "outputs": [],
   "source": [
    "import numpy as np\n",
    "parking_id = 'UFPR04'\n",
    "provider_params = ParkingProviderLocalParams(\n",
    "    parking_id=parking_id, path='E:\\\\Documents\\\\PKLot\\\\PKLot\\\\PKLot\\\\PKLot\\\\'+parking_id, k=4, random_seed=random_seed)\n",
    "\n",
    "provider = ParkingProviderLocal(provider_params)\n",
    "\n",
    "\n",
    "img = provider.fetch_image()[0]\n",
    "imgGray = cv.cvtColor(img, cv.COLOR_BGR2GRAY)\n",
    "\n",
    "# Create trackbars for adjusting threshold values\n",
    "cv.namedWindow(\"Trackbars\")\n",
    "cv.createTrackbar(\"1-Low Threshold\", \"Trackbars\", 0, 255, lambda x: None)\n",
    "cv.createTrackbar(\"1-High Threshold\", \"Trackbars\", 0, 1000, lambda x: None)\n",
    "cv.createTrackbar(\"d\", \"Trackbars\", 0, 255, lambda x: None)\n",
    "cv.createTrackbar(\"sigma color\", \"Trackbars\", 0, 1000, lambda x: None)\n",
    "cv.createTrackbar(\"sigma space\", \"Trackbars\", 0, 1000, lambda x: None)\n",
    "\n",
    "while True:\n",
    "\n",
    "    # Get the current values of the trackbars\n",
    "    lowThreshold = cv.getTrackbarPos(\"1-Low Threshold\", \"Trackbars\")\n",
    "    highThreshold = cv.getTrackbarPos(\"1-High Threshold\", \"Trackbars\")\n",
    "    d = cv.getTrackbarPos(\"d\", \"Trackbars\")\n",
    "    sc = cv.getTrackbarPos(\"sigma color\", \"Trackbars\")\n",
    "    ss = cv.getTrackbarPos(\"sigma space\", \"Trackbars\")\n",
    "\n",
    "    # Bilateral filter\n",
    "    imgBlur = cv.bilateralFilter(imgGray, d, sc, ss)\n",
    "\n",
    "    # Apply Canny edge detection\n",
    "    imgEdges = cv.Canny(imgBlur, lowThreshold, highThreshold)\n",
    "\n",
    "    # Show the resulting image\n",
    "    cv.imshow('Img', imgGray)\n",
    "    cv.imshow('Img Blur', imgBlur)\n",
    "    cv.imshow(\"Edges\", imgEdges)\n",
    "\n",
    "    # Wait for user input, and exit if the user presses the \"q\" key\n",
    "    key = cv.waitKey(1)\n",
    "    if key == ord(\"q\"):\n",
    "        # # Use Hough transform to detect lines in the edge map\n",
    "        # lines = cv.HoughLinesP(imgEdges, 1, np.pi/180, 100, minLineLength=100, maxLineGap=10)\n",
    "        # print(lines)\n",
    "        \n",
    "        provider.index += 1\n",
    "        img = provider.fetch_image()[0]\n",
    "        imgGray = cv.cvtColor(img, cv.COLOR_BGR2GRAY)\n",
    "        print('q')\n",
    "        \n",
    "        continue\n",
    "    elif key == 27:\n",
    "        cv.destroyAllWindows()\n",
    "        break\n",
    "    \n",
    "    elif key == ord('d'):\n",
    "        \n",
    "        OccupancyDetectorBorders\n",
    "\n"
   ]
  }
 ],
 "metadata": {
  "kernelspec": {
   "display_name": "Python 3.9.2 ('VisionParkDetectEnv': venv)",
   "language": "python",
   "name": "python3"
  },
  "language_info": {
   "codemirror_mode": {
    "name": "ipython",
    "version": 3
   },
   "file_extension": ".py",
   "mimetype": "text/x-python",
   "name": "python",
   "nbconvert_exporter": "python",
   "pygments_lexer": "ipython3",
   "version": "3.9.2"
  },
  "orig_nbformat": 4,
  "vscode": {
   "interpreter": {
    "hash": "751c3e3c5f8bc6a4e4e068bb230f26d845892c4443aea059e9acc5405f3faaee"
   }
  }
 },
 "nbformat": 4,
 "nbformat_minor": 2
}
